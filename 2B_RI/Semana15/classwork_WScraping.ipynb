{
  "nbformat": 4,
  "nbformat_minor": 0,
  "metadata": {
    "colab": {
      "provenance": []
    },
    "kernelspec": {
      "name": "python3",
      "display_name": "Python 3"
    },
    "language_info": {
      "name": "python"
    }
  },
  "cells": [
    {
      "cell_type": "markdown",
      "source": [
        "# <center>**Ejercicio en clase: Web Scraping**</center>\n",
        "# **Autor:** David Calahorrano"
      ],
      "metadata": {
        "id": "29Tt_TgrdML3"
      }
    },
    {
      "cell_type": "code",
      "source": [
        "import requests\n",
        "from bs4 import BeautifulSoup\n",
        "import pandas as pd\n",
        "\n",
        "# URL raíz del sitio web\n",
        "root_url = \"https://www.allrecipes.com/\"\n",
        "\n",
        "# Función para obtener categorías\n",
        "def get_categories(root_url):\n",
        "    headers = {\n",
        "        \"User-Agent\": \"Mozilla/5.0 (Windows NT 10.0; Win64; x64) AppleWebKit/537.36 (KHTML, like Gecko) Chrome/91.0.4472.124 Safari/537.36\"\n",
        "    }\n",
        "    try:\n",
        "        response = requests.get(root_url, headers=headers)\n",
        "        response.raise_for_status()\n",
        "        soup = BeautifulSoup(response.content, \"html.parser\")\n",
        "        category_links = soup.find_all(\"a\", href=True)\n",
        "        categories = {\n",
        "            link.text.strip(): link[\"href\"]\n",
        "            for link in category_links\n",
        "            if \"/recipes/\" in link[\"href\"] and link.text.strip()\n",
        "        }\n",
        "        return categories\n",
        "    except requests.exceptions.RequestException as e:\n",
        "        print(f\"Error al conectar con {root_url}: {e}\")\n",
        "        return {}\n",
        "\n",
        "# Función para obtener recetas de una categoría\n",
        "def get_recipes_from_category(category_url):\n",
        "    headers = {\n",
        "        \"User-Agent\": \"Mozilla/5.0 (Windows NT 10.0; Win64; x64) AppleWebKit/537.36 (KHTML, like Gecko) Chrome/91.0.4472.124 Safari/537.36\"\n",
        "    }\n",
        "    try:\n",
        "        response = requests.get(category_url, headers=headers)\n",
        "        response.raise_for_status()\n",
        "        soup = BeautifulSoup(response.content, \"html.parser\")\n",
        "        recipe_links = soup.find_all(\"a\", href=True)\n",
        "        recipes = list(set(\n",
        "            link[\"href\"]\n",
        "            for link in recipe_links\n",
        "            if \"/recipe/\" in link[\"href\"]\n",
        "        ))\n",
        "        return recipes\n",
        "    except requests.exceptions.RequestException as e:\n",
        "        print(f\"Error al conectar con {category_url}: {e}\")\n",
        "        return []\n",
        "\n",
        "# Función para obtener detalles de una receta\n",
        "def get_recipe_details(recipe_url):\n",
        "    headers = {\n",
        "        \"User-Agent\": \"Mozilla/5.0 (Windows NT 10.0; Win64; x64) AppleWebKit/537.36 (KHTML, like Gecko) Chrome/91.0.4472.124 Safari/537.36\"\n",
        "    }\n",
        "    try:\n",
        "        response = requests.get(recipe_url, headers=headers)\n",
        "        response.raise_for_status()\n",
        "        soup = BeautifulSoup(response.content, \"html.parser\")\n",
        "\n",
        "        recipe_id = recipe_url.split(\"/\")[-2]\n",
        "        title = soup.find(\"meta\", {\"property\": \"og:title\"})\n",
        "        title = title[\"content\"] if title else \"Sin título\"\n",
        "\n",
        "        ingredients_section = soup.find_all(\"li\", class_=\"ingredients-item\")\n",
        "        ingredients = [item.get_text(strip=True) for item in ingredients_section] if ingredients_section else []\n",
        "\n",
        "        instructions_section = soup.find_all(\"li\", class_=\"instructions-section-item\")\n",
        "        instructions = [step.get_text(strip=True) for step in instructions_section] if instructions_section else []\n",
        "\n",
        "        prep_time = soup.find(\"div\", class_=\"recipe-meta-item-body\")\n",
        "        prep_time = prep_time.get_text(strip=True) if prep_time else \"No disponible\"\n",
        "\n",
        "        return {\n",
        "            \"id\": recipe_id,\n",
        "            \"title\": title,\n",
        "            \"ingredients\": ingredients,\n",
        "            \"instructions\": instructions,\n",
        "            \"prep_time\": prep_time,\n",
        "            \"url\": recipe_url\n",
        "        }\n",
        "    except requests.exceptions.RequestException as e:\n",
        "        print(f\"Error al conectar con {recipe_url}: {e}\")\n",
        "        return None\n",
        "\n",
        "# Obtener todas las categorías\n",
        "categories = get_categories(root_url)\n",
        "\n",
        "# Lista para almacenar los datos\n",
        "all_recipes = []\n",
        "max_recipes = 500\n",
        "\n",
        "# Iterar sobre las categorías\n",
        "for category_name, category_url in categories.items():\n",
        "    print(f\"Procesando categoría: {category_name}\")\n",
        "    recipes = get_recipes_from_category(category_url)\n",
        "\n",
        "    for recipe_url in recipes:\n",
        "        recipe_details = get_recipe_details(recipe_url)\n",
        "        if recipe_details:\n",
        "            all_recipes.append(recipe_details)\n",
        "\n",
        "        # Detener si alcanzamos el límite\n",
        "        if len(all_recipes) >= max_recipes:\n",
        "            break\n",
        "    if len(all_recipes) >= max_recipes:\n",
        "        break\n",
        "\n",
        "# Crear un DataFrame y guardarlo en CSV\n",
        "df = pd.DataFrame(all_recipes)\n",
        "df.to_csv(\"recipes_corpus.csv\", index=False, encoding=\"utf-8\")\n",
        "print(\"Corpus guardado en 'recipes_corpus.csv'.\")"
      ],
      "metadata": {
        "colab": {
          "base_uri": "https://localhost:8080/"
        },
        "id": "ldGoGp8nNCBs",
        "outputId": "d3e8ed5f-2eb4-4e91-efac-7aec02c20535"
      },
      "execution_count": 1,
      "outputs": [
        {
          "output_type": "stream",
          "name": "stdout",
          "text": [
            "Procesando categoría: Dinners\n",
            "Procesando categoría: 5-Ingredient Dinners\n",
            "Procesando categoría: One-Pot Meals\n",
            "Procesando categoría: Quick & Easy\n",
            "Procesando categoría: 30-Minute Meals\n",
            "Procesando categoría: Family Dinners\n",
            "Procesando categoría: Soups, Stews & Chili\n",
            "Procesando categoría: Comfort Food\n",
            "Procesando categoría: Main Dishes\n",
            "Procesando categoría: Sheet Pan Dinners\n",
            "Procesando categoría: View All\n",
            "Procesando categoría: Breakfast & Brunch\n",
            "Procesando categoría: Lunch\n",
            "Procesando categoría: Healthy\n",
            "Procesando categoría: Appetizers & Snacks\n",
            "Procesando categoría: Salads\n",
            "Corpus guardado en 'recipes_corpus.csv'.\n"
          ]
        }
      ]
    },
    {
      "cell_type": "code",
      "source": [
        "import requests\n",
        "from bs4 import BeautifulSoup\n",
        "\n",
        "# URL raíz del sitio web\n",
        "root_url = \"https://www.allrecipes.com/\"\n",
        "headers = {\n",
        "    \"User-Agent\": \"Mozilla/5.0 (Windows NT 10.0; Win64; x64) AppleWebKit/537.36 (KHTML, like Gecko) Chrome/91.0.4472.124 Safari/537.36\"\n",
        "}\n",
        "\n",
        "# Función para obtener categorías y sus URLs\n",
        "def get_categories(root_url):\n",
        "    try:\n",
        "        response = requests.get(root_url, headers=headers)\n",
        "        response.raise_for_status()\n",
        "        soup = BeautifulSoup(response.content, \"html.parser\")\n",
        "\n",
        "        # Buscar enlaces relacionados con categorías\n",
        "        category_links = soup.find_all(\"a\", href=True)\n",
        "        categories = {}\n",
        "\n",
        "        for link in category_links:\n",
        "            category_name = link.text.strip()\n",
        "            category_url = link[\"href\"]\n",
        "\n",
        "            if \"/recipes/\" in category_url and category_name:\n",
        "                categories[category_name] = category_url\n",
        "\n",
        "        if not categories:\n",
        "            print(\"No se encontraron categorías en la página raíz.\")\n",
        "        return categories\n",
        "\n",
        "    except requests.exceptions.RequestException as e:\n",
        "        print(f\"Error al conectar con {root_url}: {e}\")\n",
        "        return {}\n",
        "\n",
        "# Función para obtener recetas de una categoría\n",
        "def get_recipes_from_category(category_url):\n",
        "    try:\n",
        "        response = requests.get(category_url, headers=headers)\n",
        "        response.raise_for_status()\n",
        "        soup = BeautifulSoup(response.content, \"html.parser\")\n",
        "\n",
        "        # Buscar enlaces de recetas\n",
        "        recipe_links = soup.find_all(\"a\", href=True)\n",
        "        recipes = set()\n",
        "\n",
        "        for link in recipe_links:\n",
        "            recipe_url = link[\"href\"]\n",
        "            if \"/recipe/\" in recipe_url:\n",
        "                recipes.add(recipe_url)\n",
        "\n",
        "        if not recipes:\n",
        "            print(f\"No se encontraron recetas en la categoría: {category_url}\")\n",
        "        return recipes\n",
        "\n",
        "    except requests.exceptions.RequestException as e:\n",
        "        print(f\"Error al conectar con {category_url}: {e}\")\n",
        "        return set()\n",
        "\n",
        "# Construir el corpus con recetas y un límite de 500\n",
        "def build_corpus(categories, max_recipes=500):\n",
        "    all_recipes = set()\n",
        "    recipe_corpus = []\n",
        "    recipe_id = 1\n",
        "\n",
        "    for category_name, category_url in categories.items():\n",
        "        print(f\"Extrayendo recetas de la categoría: {category_name}\")\n",
        "        recipes = get_recipes_from_category(category_url)\n",
        "\n",
        "        for recipe_url in recipes:\n",
        "            if len(all_recipes) >= max_recipes:\n",
        "                break\n",
        "            if recipe_url not in all_recipes:\n",
        "                all_recipes.add(recipe_url)\n",
        "\n",
        "                # Obtener nombre de la receta (manejando posibles errores)\n",
        "                recipe_name = recipe_url.split(\"/\")[-2].replace(\"-\", \" \").capitalize()\n",
        "                if not recipe_name:\n",
        "                    recipe_name = \"Receta sin nombre\"\n",
        "\n",
        "                # Agregar al corpus\n",
        "                recipe_corpus.append({\n",
        "                    \"id\": recipe_id,\n",
        "                    \"name\": recipe_name,\n",
        "                    \"url\": recipe_url\n",
        "                })\n",
        "                recipe_id += 1\n",
        "\n",
        "        if len(all_recipes) >= max_recipes:\n",
        "            break\n",
        "\n",
        "    return recipe_corpus\n",
        "\n",
        "# Ejecución del código\n",
        "if __name__ == \"__main__\":\n",
        "    print(\"Obteniendo categorías...\")\n",
        "    categories = get_categories(root_url)\n",
        "\n",
        "    if categories:\n",
        "        print(f\"Categorías encontradas: {len(categories)}\")\n",
        "        for category, url in categories.items():\n",
        "            print(f\"{category}: {url}\")\n",
        "\n",
        "        print(\"\\nConstruyendo el corpus de recetas...\")\n",
        "        corpus = build_corpus(categories)\n",
        "        print(f\"\\nTotal de recetas en el corpus: {len(corpus)}\")\n",
        "\n",
        "        # Mostrar las primeras 10 recetas como ejemplo\n",
        "        for recipe in corpus[:10]:\n",
        "            print(f\"ID: {recipe['id']}, Nombre: {recipe['name']}, URL: {recipe['url']}\")\n",
        "    else:\n",
        "        print(\"No se encontraron categorías.\")"
      ],
      "metadata": {
        "colab": {
          "base_uri": "https://localhost:8080/"
        },
        "id": "LNnFQ_cXNCzl",
        "outputId": "75b11782-4a8c-4ac7-a1b3-21702b79cafa"
      },
      "execution_count": 2,
      "outputs": [
        {
          "output_type": "stream",
          "name": "stdout",
          "text": [
            "Obteniendo categorías...\n",
            "Categorías encontradas: 56\n",
            "Dinners: https://www.allrecipes.com/recipes/17562/dinner/\n",
            "5-Ingredient Dinners: https://www.allrecipes.com/recipes/17057/everyday-cooking/more-meal-ideas/5-ingredients/main-dishes/\n",
            "One-Pot Meals: https://www.allrecipes.com/recipes/15436/everyday-cooking/one-pot-meals/\n",
            "Quick & Easy: https://www.allrecipes.com/recipes/1947/everyday-cooking/quick-and-easy/\n",
            "30-Minute Meals: https://www.allrecipes.com/recipes/455/everyday-cooking/more-meal-ideas/30-minute-meals/\n",
            "Family Dinners: https://www.allrecipes.com/recipes/17889/everyday-cooking/family-friendly/family-dinners/\n",
            "Soups, Stews & Chili: https://www.allrecipes.com/recipes/94/soups-stews-and-chili/\n",
            "Comfort Food: https://www.allrecipes.com/recipes/16099/everyday-cooking/comfort-food/\n",
            "Main Dishes: https://www.allrecipes.com/recipes/80/main-dish/\n",
            "Sheet Pan Dinners: https://www.allrecipes.com/recipes/22992/everyday-cooking/sheet-pan-dinners/\n",
            "View All: https://www.allrecipes.com/recipes/85/holidays-and-events/\n",
            "Breakfast & Brunch: https://www.allrecipes.com/recipes/78/breakfast-and-brunch/\n",
            "Lunch: https://www.allrecipes.com/recipes/17561/lunch/\n",
            "Healthy: https://www.allrecipes.com/recipes/84/healthy-recipes/\n",
            "Appetizers & Snacks: https://www.allrecipes.com/recipes/76/appetizers-and-snacks/\n",
            "Salads: https://www.allrecipes.com/recipes/96/salad/\n",
            "Side Dishes: https://www.allrecipes.com/recipes/81/side-dish/\n",
            "Soups: https://www.allrecipes.com/recipes/16369/soups-stews-and-chili/soup/\n",
            "Bread: https://www.allrecipes.com/recipes/156/bread/\n",
            "Drinks: https://www.allrecipes.com/recipes/77/drinks/\n",
            "Desserts: https://www.allrecipes.com/recipes/79/desserts/\n",
            "Chicken: https://www.allrecipes.com/recipes/201/meat-and-poultry/chicken/\n",
            "Beef: https://www.allrecipes.com/recipes/200/meat-and-poultry/beef/\n",
            "Pork: https://www.allrecipes.com/recipes/205/meat-and-poultry/pork/\n",
            "Seafood: https://www.allrecipes.com/recipes/93/seafood/\n",
            "Pasta: https://www.allrecipes.com/recipes/95/pasta-and-noodles/\n",
            "Fruits: https://www.allrecipes.com/recipes/1058/fruits-and-vegetables/fruits/\n",
            "Vegetables: https://www.allrecipes.com/recipes/1059/fruits-and-vegetables/vegetables/\n",
            "Occasions: https://www.allrecipes.com/recipes/85/holidays-and-events/\n",
            "Lunar New Year: https://www.allrecipes.com/recipes/17668/holidays-and-events/lunar-new-year/\n",
            "Recipes for the Super Bowl: https://www.allrecipes.com/recipes/1419/holidays-and-events/big-game/\n",
            "Valentine's Day: https://www.allrecipes.com/recipes/199/holidays-and-events/valentines-day/\n",
            "Mardi Gras: https://www.allrecipes.com/recipes/192/holidays-and-events/mardi-gras/\n",
            "Mexican: https://www.allrecipes.com/recipes/728/world-cuisine/latin-american/mexican/\n",
            "Italian: https://www.allrecipes.com/recipes/723/world-cuisine/european/italian/\n",
            "Chinese: https://www.allrecipes.com/recipes/695/world-cuisine/asian/chinese/\n",
            "Indian: https://www.allrecipes.com/recipes/233/world-cuisine/asian/indian/\n",
            "German: https://www.allrecipes.com/recipes/722/world-cuisine/european/german/\n",
            "Greek: https://www.allrecipes.com/recipes/731/world-cuisine/european/greek/\n",
            "Filipino: https://www.allrecipes.com/recipes/696/world-cuisine/asian/filipino/\n",
            "Japanese: https://www.allrecipes.com/recipes/699/world-cuisine/asian/japanese/\n",
            "Instant Pot: https://www.allrecipes.com/recipes/22882/everyday-cooking/instant-pot/\n",
            "Air Fryer: https://www.allrecipes.com/recipes/23070/everyday-cooking/cookware-and-equipment/air-fryer/\n",
            "Slow Cooker: https://www.allrecipes.com/recipes/253/everyday-cooking/slow-cooker/\n",
            "BBQ & Grilling: https://www.allrecipes.com/recipes/88/bbq-grilling/\n",
            "Cooking by Equipment: https://www.allrecipes.com/recipes/17583/everyday-cooking/cookware-and-equipment/\n",
            "Features: https://www.allrecipes.com/recipes/1642/everyday-cooking/\n",
            "Skillet Suppers: https://www.allrecipes.com/recipes/15436/everyday-cooking/one-pot-meals/\n",
            "Winter Menu Ideas: https://www.allrecipes.com/recipes/632/everyday-cooking/seasonal/winter/\n",
            "Football-Watching Food: https://www.allrecipes.com/recipes/1419/holidays-and-events/big-game/\n",
            "Jalapeno Poppers: https://www.allrecipes.com/recipes/1241/appetizers-and-snacks/vegetable/jalapeno-poppers/\n",
            "Popular Recipes: https://www.allrecipes.com/recipes/\n",
            "Hello, Sunshine: https://www.allrecipes.com/recipes/1105/fruits-and-vegetables/fruits/citrus/\n",
            "Meals: https://www.allrecipes.com/recipes/\n",
            "Ingredients: https://www.allrecipes.com/recipes/17567/ingredients/\n",
            "Cuisines: https://www.allrecipes.com/recipes/86/world-cuisine/\n",
            "\n",
            "Construyendo el corpus de recetas...\n",
            "Extrayendo recetas de la categoría: Dinners\n",
            "Extrayendo recetas de la categoría: 5-Ingredient Dinners\n",
            "Extrayendo recetas de la categoría: One-Pot Meals\n",
            "Extrayendo recetas de la categoría: Quick & Easy\n",
            "Extrayendo recetas de la categoría: 30-Minute Meals\n",
            "Extrayendo recetas de la categoría: Family Dinners\n",
            "Extrayendo recetas de la categoría: Soups, Stews & Chili\n",
            "Extrayendo recetas de la categoría: Comfort Food\n",
            "Extrayendo recetas de la categoría: Main Dishes\n",
            "Extrayendo recetas de la categoría: Sheet Pan Dinners\n",
            "Extrayendo recetas de la categoría: View All\n",
            "Extrayendo recetas de la categoría: Breakfast & Brunch\n",
            "Extrayendo recetas de la categoría: Lunch\n",
            "Extrayendo recetas de la categoría: Healthy\n",
            "Extrayendo recetas de la categoría: Appetizers & Snacks\n",
            "Extrayendo recetas de la categoría: Salads\n",
            "Extrayendo recetas de la categoría: Side Dishes\n",
            "Extrayendo recetas de la categoría: Soups\n",
            "Extrayendo recetas de la categoría: Bread\n",
            "Extrayendo recetas de la categoría: Drinks\n",
            "Extrayendo recetas de la categoría: Desserts\n",
            "Extrayendo recetas de la categoría: Chicken\n",
            "Extrayendo recetas de la categoría: Beef\n",
            "No se encontraron recetas en la categoría: https://www.allrecipes.com/recipes/200/meat-and-poultry/beef/\n",
            "Extrayendo recetas de la categoría: Pork\n",
            "Extrayendo recetas de la categoría: Seafood\n",
            "Extrayendo recetas de la categoría: Pasta\n",
            "Extrayendo recetas de la categoría: Fruits\n",
            "No se encontraron recetas en la categoría: https://www.allrecipes.com/recipes/1058/fruits-and-vegetables/fruits/\n",
            "Extrayendo recetas de la categoría: Vegetables\n",
            "Extrayendo recetas de la categoría: Occasions\n",
            "Extrayendo recetas de la categoría: Lunar New Year\n",
            "\n",
            "Total de recetas en el corpus: 500\n",
            "ID: 1, Nombre: Juicy roasted chicken, URL: https://www.allrecipes.com/recipe/83557/juicy-roasted-chicken/\n",
            "ID: 2, Nombre: To die for fettuccine alfredo, URL: https://www.allrecipes.com/recipe/23431/to-die-for-fettuccine-alfredo/\n",
            "ID: 3, Nombre: Juicy thanksgiving turkey, URL: https://www.allrecipes.com/recipe/166160/juicy-thanksgiving-turkey/\n",
            "ID: 4, Nombre: Empanadas beef turnovers, URL: https://www.allrecipes.com/recipe/215231/empanadas-beef-turnovers/\n",
            "ID: 5, Nombre: Cast iron pan seared steak oven finished, URL: https://www.allrecipes.com/recipe/262181/cast-iron-pan-seared-steak-oven-finished/\n",
            "ID: 6, Nombre: Turkey in a smoker, URL: https://www.allrecipes.com/recipe/16984/turkey-in-a-smoker/\n",
            "ID: 7, Nombre: Roasted pork loin, URL: https://www.allrecipes.com/recipe/21766/roasted-pork-loin/\n",
            "ID: 8, Nombre: Chicken parmesan, URL: https://www.allrecipes.com/recipe/223042/chicken-parmesan/\n",
            "ID: 9, Nombre: Salisbury steak, URL: https://www.allrecipes.com/recipe/14595/salisbury-steak/\n",
            "ID: 10, Nombre: Corned beef roast, URL: https://www.allrecipes.com/recipe/83646/corned-beef-roast/\n"
          ]
        }
      ]
    },
    {
      "cell_type": "code",
      "source": [
        "import csv\n",
        "\n",
        "# Función para guardar las recetas en un archivo CSV\n",
        "def save_recipes_to_csv(corpus, filename=\"recipes.csv\"):\n",
        "    try:\n",
        "        with open(filename, mode='w', newline='', encoding='utf-8') as file:\n",
        "            writer = csv.DictWriter(file, fieldnames=[\"id\", \"name\", \"url\"])\n",
        "            writer.writeheader()  # Escribir los encabezados del CSV\n",
        "            writer.writerows(corpus)  # Escribir las recetas en el archivo\n",
        "        print(f\"Recetas guardadas exitosamente en {filename}.\")\n",
        "    except Exception as e:\n",
        "        print(f\"Error al guardar el archivo CSV: {e}\")"
      ],
      "metadata": {
        "id": "jtEqYD7CReZi"
      },
      "execution_count": 3,
      "outputs": []
    },
    {
      "cell_type": "code",
      "source": [
        "# Guardar las recetas en el archivo CSV\n",
        "save_recipes_to_csv(corpus)"
      ],
      "metadata": {
        "colab": {
          "base_uri": "https://localhost:8080/"
        },
        "id": "gGo_YkiPSccZ",
        "outputId": "bd4146e9-d6fd-480b-f339-2f39f106664b"
      },
      "execution_count": 4,
      "outputs": [
        {
          "output_type": "stream",
          "name": "stdout",
          "text": [
            "Recetas guardadas exitosamente en recipes.csv.\n"
          ]
        }
      ]
    },
    {
      "cell_type": "code",
      "source": [
        "# Función para cargar recetas desde un archivo CSV\n",
        "def load_recipes_from_csv(filename=\"recipes.csv\"):\n",
        "    try:\n",
        "        recipes = []\n",
        "        with open(filename, mode='r', encoding='utf-8') as file:\n",
        "            reader = csv.DictReader(file)\n",
        "            for row in reader:\n",
        "                recipes.append(row)\n",
        "        print(f\"Recetas cargadas desde {filename}. Total: {len(recipes)}\")\n",
        "        return recipes\n",
        "    except Exception as e:\n",
        "        print(f\"Error al cargar el archivo CSV: {e}\")\n",
        "        return []"
      ],
      "metadata": {
        "id": "yf-7MNkBSdhQ"
      },
      "execution_count": 5,
      "outputs": []
    },
    {
      "cell_type": "code",
      "source": [
        "# Cargar recetas desde el archivo CSV\n",
        "loaded_recipes = load_recipes_from_csv()\n",
        "for recipe in loaded_recipes[:10]:  # Mostrar las primeras 10 recetas\n",
        "    print(f\"ID: {recipe['id']}, Nombre: {recipe['name']}, URL: {recipe['url']}\")"
      ],
      "metadata": {
        "colab": {
          "base_uri": "https://localhost:8080/"
        },
        "id": "54Uc-l6GSfHg",
        "outputId": "a76cf27e-c86e-466e-d8a3-6ff3e66f7c05"
      },
      "execution_count": 6,
      "outputs": [
        {
          "output_type": "stream",
          "name": "stdout",
          "text": [
            "Recetas cargadas desde recipes.csv. Total: 500\n",
            "ID: 1, Nombre: Juicy roasted chicken, URL: https://www.allrecipes.com/recipe/83557/juicy-roasted-chicken/\n",
            "ID: 2, Nombre: To die for fettuccine alfredo, URL: https://www.allrecipes.com/recipe/23431/to-die-for-fettuccine-alfredo/\n",
            "ID: 3, Nombre: Juicy thanksgiving turkey, URL: https://www.allrecipes.com/recipe/166160/juicy-thanksgiving-turkey/\n",
            "ID: 4, Nombre: Empanadas beef turnovers, URL: https://www.allrecipes.com/recipe/215231/empanadas-beef-turnovers/\n",
            "ID: 5, Nombre: Cast iron pan seared steak oven finished, URL: https://www.allrecipes.com/recipe/262181/cast-iron-pan-seared-steak-oven-finished/\n",
            "ID: 6, Nombre: Turkey in a smoker, URL: https://www.allrecipes.com/recipe/16984/turkey-in-a-smoker/\n",
            "ID: 7, Nombre: Roasted pork loin, URL: https://www.allrecipes.com/recipe/21766/roasted-pork-loin/\n",
            "ID: 8, Nombre: Chicken parmesan, URL: https://www.allrecipes.com/recipe/223042/chicken-parmesan/\n",
            "ID: 9, Nombre: Salisbury steak, URL: https://www.allrecipes.com/recipe/14595/salisbury-steak/\n",
            "ID: 10, Nombre: Corned beef roast, URL: https://www.allrecipes.com/recipe/83646/corned-beef-roast/\n"
          ]
        }
      ]
    },
    {
      "cell_type": "code",
      "source": [
        "def get_recipe_details(recipe_url):\n",
        "    try:\n",
        "        response = requests.get(recipe_url, headers=headers)\n",
        "        response.raise_for_status()\n",
        "        soup = BeautifulSoup(response.content, \"html.parser\")\n",
        "\n",
        "        # Obtener el nombre de la receta (suponiendo que está en el título de la página)\n",
        "        recipe_name = soup.find(\"h1\", class_=\"headline\").text.strip() if soup.find(\"h1\", class_=\"headline\") else \"Receta sin nombre\"\n",
        "\n",
        "        # Obtener la descripción de la receta\n",
        "        description = soup.find(\"div\", class_=\"intro\").text.strip() if soup.find(\"div\", class_=\"intro\") else \"Descripción no disponible\"\n",
        "\n",
        "        # Obtener los ingredientes\n",
        "        ingredients = []\n",
        "        ingredient_list = soup.find_all(\"span\", class_=\"ingredients-item-name\")\n",
        "        for ingredient in ingredient_list:\n",
        "            ingredients.append(ingredient.text.strip())\n",
        "\n",
        "        # Obtener las instrucciones de la receta\n",
        "        instructions = []\n",
        "        instruction_steps = soup.find_all(\"li\", class_=\"subcontainer instructions-section-item\")\n",
        "        for step in instruction_steps:\n",
        "            instructions.append(step.text.strip())\n",
        "\n",
        "        # Obtener el tiempo de preparación (si está disponible)\n",
        "        prep_time = soup.find(\"span\", class_=\"prepTime__item--time\").text.strip() if soup.find(\"span\", class_=\"prepTime__item--time\") else \"Tiempo de preparación no disponible\"\n",
        "\n",
        "        # Retornar un diccionario con los detalles completos de la receta\n",
        "        return {\n",
        "            \"name\": recipe_name,\n",
        "            \"url\": recipe_url,\n",
        "            \"description\": description,\n",
        "            \"ingredients\": ingredients,\n",
        "            \"instructions\": instructions,\n",
        "            \"prep_time\": prep_time\n",
        "        }\n",
        "\n",
        "    except requests.exceptions.RequestException as e:\n",
        "        print(f\"Error al conectar con {recipe_url}: {e}\")\n",
        "        return {}"
      ],
      "metadata": {
        "id": "CAwKv_BPVHjd"
      },
      "execution_count": 14,
      "outputs": []
    },
    {
      "cell_type": "code",
      "source": [
        "def build_corpus(categories, max_recipes=500):\n",
        "    all_recipes = set()\n",
        "    recipe_corpus = []\n",
        "    recipe_id = 1\n",
        "\n",
        "    for category_name, category_url in categories.items():\n",
        "        print(f\"Extrayendo recetas de la categoría: {category_name}\")\n",
        "        recipes = get_recipes_from_category(category_url)\n",
        "\n",
        "        for recipe_url in recipes:\n",
        "            if len(all_recipes) >= max_recipes:\n",
        "                break\n",
        "            if recipe_url not in all_recipes:\n",
        "                all_recipes.add(recipe_url)\n",
        "\n",
        "                # Obtener los detalles de la receta\n",
        "                recipe_details = get_recipe_details(recipe_url)\n",
        "                if recipe_details:  # Asegúrate de que la receta tenga detalles\n",
        "                    recipe_corpus.append({\n",
        "                        \"id\": recipe_id,\n",
        "                        \"name\": recipe_details[\"name\"],\n",
        "                        \"url\": recipe_details[\"url\"],\n",
        "                        \"description\": recipe_details[\"description\"],\n",
        "                        \"ingredients\": recipe_details[\"ingredients\"],\n",
        "                        \"instructions\": recipe_details[\"instructions\"],\n",
        "                        \"prep_time\": recipe_details[\"prep_time\"],\n",
        "                        \"category\": category_name\n",
        "                    })\n",
        "                    recipe_id += 1\n",
        "\n",
        "        if len(all_recipes) >= max_recipes:\n",
        "            break\n",
        "\n",
        "    return recipe_corpus"
      ],
      "metadata": {
        "id": "2mNUxAp0VIRO"
      },
      "execution_count": 15,
      "outputs": []
    },
    {
      "cell_type": "code",
      "source": [
        "import csv\n",
        "\n",
        "def save_recipes_to_csv(corpus, filename=\"complete_recipes.csv\"):\n",
        "    try:\n",
        "        with open(filename, mode='w', newline='', encoding='utf-8') as file:\n",
        "            fieldnames = [\"id\", \"name\", \"category\", \"url\", \"description\", \"ingredients\", \"instructions\", \"prep_time\"]\n",
        "            writer = csv.DictWriter(file, fieldnames=fieldnames)\n",
        "            writer.writeheader()  # Escribir los encabezados del CSV\n",
        "\n",
        "            for recipe in corpus:\n",
        "                # Convertir listas de ingredientes e instrucciones a un formato de texto legible\n",
        "                recipe[\"ingredients\"] = \", \".join(recipe[\"ingredients\"])\n",
        "                recipe[\"instructions\"] = \" | \".join(recipe[\"instructions\"])\n",
        "                writer.writerow(recipe)  # Escribir cada receta al archivo CSV\n",
        "        print(f\"Recetas completas guardadas exitosamente en {filename}.\")\n",
        "    except Exception as e:\n",
        "        print(f\"Error al guardar el archivo CSV: {e}\")"
      ],
      "metadata": {
        "id": "Lo3_7ngjVRw1"
      },
      "execution_count": 16,
      "outputs": []
    },
    {
      "cell_type": "code",
      "source": [
        "from google.colab import files\n",
        "\n",
        "# Descargar el archivo CSV\n",
        "files.download(\"complete_recipes.csv\")"
      ],
      "metadata": {
        "colab": {
          "base_uri": "https://localhost:8080/",
          "height": 17
        },
        "id": "yoxgxC4aXBem",
        "outputId": "be92379e-4f21-4055-f13b-5357b414ff31"
      },
      "execution_count": 17,
      "outputs": [
        {
          "output_type": "display_data",
          "data": {
            "text/plain": [
              "<IPython.core.display.Javascript object>"
            ],
            "application/javascript": [
              "\n",
              "    async function download(id, filename, size) {\n",
              "      if (!google.colab.kernel.accessAllowed) {\n",
              "        return;\n",
              "      }\n",
              "      const div = document.createElement('div');\n",
              "      const label = document.createElement('label');\n",
              "      label.textContent = `Downloading \"${filename}\": `;\n",
              "      div.appendChild(label);\n",
              "      const progress = document.createElement('progress');\n",
              "      progress.max = size;\n",
              "      div.appendChild(progress);\n",
              "      document.body.appendChild(div);\n",
              "\n",
              "      const buffers = [];\n",
              "      let downloaded = 0;\n",
              "\n",
              "      const channel = await google.colab.kernel.comms.open(id);\n",
              "      // Send a message to notify the kernel that we're ready.\n",
              "      channel.send({})\n",
              "\n",
              "      for await (const message of channel.messages) {\n",
              "        // Send a message to notify the kernel that we're ready.\n",
              "        channel.send({})\n",
              "        if (message.buffers) {\n",
              "          for (const buffer of message.buffers) {\n",
              "            buffers.push(buffer);\n",
              "            downloaded += buffer.byteLength;\n",
              "            progress.value = downloaded;\n",
              "          }\n",
              "        }\n",
              "      }\n",
              "      const blob = new Blob(buffers, {type: 'application/binary'});\n",
              "      const a = document.createElement('a');\n",
              "      a.href = window.URL.createObjectURL(blob);\n",
              "      a.download = filename;\n",
              "      div.appendChild(a);\n",
              "      a.click();\n",
              "      div.remove();\n",
              "    }\n",
              "  "
            ]
          },
          "metadata": {}
        },
        {
          "output_type": "display_data",
          "data": {
            "text/plain": [
              "<IPython.core.display.Javascript object>"
            ],
            "application/javascript": [
              "download(\"download_e9621515-6f2e-417d-9332-0b60aa99e0ea\", \"complete_recipes.csv\", 52126)"
            ]
          },
          "metadata": {}
        }
      ]
    },
    {
      "cell_type": "code",
      "source": [
        "# Función para cargar recetas completas desde un archivo CSV\n",
        "def load_recipes_from_csv(filename=\"complete_recipes.csv\"):\n",
        "    try:\n",
        "        recipes = []\n",
        "        with open(filename, mode='r', encoding='utf-8') as file:\n",
        "            reader = csv.DictReader(file)\n",
        "            for row in reader:\n",
        "                recipes.append(row)\n",
        "        print(f\"Recetas completas cargadas desde {filename}. Total: {len(recipes)}\")\n",
        "        return recipes\n",
        "    except Exception as e:\n",
        "        print(f\"Error al cargar el archivo CSV: {e}\")\n",
        "        return []"
      ],
      "metadata": {
        "id": "knaLgA-aVTbO"
      },
      "execution_count": 10,
      "outputs": []
    },
    {
      "cell_type": "code",
      "source": [
        "from google.colab import files\n",
        "\n",
        "# Después de guardar el archivo CSV\n",
        "save_recipes_to_csv(corpus)\n",
        "\n",
        "# Descargar el archivo CSV\n",
        "files.download(\"complete_recipes.csv\")"
      ],
      "metadata": {
        "colab": {
          "base_uri": "https://localhost:8080/",
          "height": 34
        },
        "id": "717BV8Q6VUz-",
        "outputId": "01ee9f48-c1ef-406d-ebac-2daec3a1b5ba"
      },
      "execution_count": 11,
      "outputs": [
        {
          "output_type": "stream",
          "name": "stdout",
          "text": [
            "Recetas completas guardadas exitosamente en complete_recipes.csv.\n"
          ]
        },
        {
          "output_type": "display_data",
          "data": {
            "text/plain": [
              "<IPython.core.display.Javascript object>"
            ],
            "application/javascript": [
              "\n",
              "    async function download(id, filename, size) {\n",
              "      if (!google.colab.kernel.accessAllowed) {\n",
              "        return;\n",
              "      }\n",
              "      const div = document.createElement('div');\n",
              "      const label = document.createElement('label');\n",
              "      label.textContent = `Downloading \"${filename}\": `;\n",
              "      div.appendChild(label);\n",
              "      const progress = document.createElement('progress');\n",
              "      progress.max = size;\n",
              "      div.appendChild(progress);\n",
              "      document.body.appendChild(div);\n",
              "\n",
              "      const buffers = [];\n",
              "      let downloaded = 0;\n",
              "\n",
              "      const channel = await google.colab.kernel.comms.open(id);\n",
              "      // Send a message to notify the kernel that we're ready.\n",
              "      channel.send({})\n",
              "\n",
              "      for await (const message of channel.messages) {\n",
              "        // Send a message to notify the kernel that we're ready.\n",
              "        channel.send({})\n",
              "        if (message.buffers) {\n",
              "          for (const buffer of message.buffers) {\n",
              "            buffers.push(buffer);\n",
              "            downloaded += buffer.byteLength;\n",
              "            progress.value = downloaded;\n",
              "          }\n",
              "        }\n",
              "      }\n",
              "      const blob = new Blob(buffers, {type: 'application/binary'});\n",
              "      const a = document.createElement('a');\n",
              "      a.href = window.URL.createObjectURL(blob);\n",
              "      a.download = filename;\n",
              "      div.appendChild(a);\n",
              "      a.click();\n",
              "      div.remove();\n",
              "    }\n",
              "  "
            ]
          },
          "metadata": {}
        },
        {
          "output_type": "display_data",
          "data": {
            "text/plain": [
              "<IPython.core.display.Javascript object>"
            ],
            "application/javascript": [
              "download(\"download_9425519f-c7bb-4cb0-9e5e-38bab37c97f3\", \"complete_recipes.csv\", 52126)"
            ]
          },
          "metadata": {}
        }
      ]
    },
    {
      "cell_type": "code",
      "source": [
        "print(f\"Total de recetas recopiladas: {len(corpus)}\")\n",
        "if len(corpus) > 0:\n",
        "    save_recipes_to_csv(corpus)\n",
        "else:\n",
        "    print(\"No se han recopilado recetas.\")"
      ],
      "metadata": {
        "colab": {
          "base_uri": "https://localhost:8080/"
        },
        "id": "Q1zlk6VFVnZF",
        "outputId": "82f7dfcb-9c24-41ab-b352-bc470d51c82b"
      },
      "execution_count": 12,
      "outputs": [
        {
          "output_type": "stream",
          "name": "stdout",
          "text": [
            "Total de recetas recopiladas: 500\n",
            "Recetas completas guardadas exitosamente en complete_recipes.csv.\n"
          ]
        }
      ]
    },
    {
      "cell_type": "code",
      "source": [
        "# Imprimir las primeras 5 recetas para verificar el contenido\n",
        "print(corpus[:5])"
      ],
      "metadata": {
        "colab": {
          "base_uri": "https://localhost:8080/"
        },
        "id": "Tzv3T7bSWHbV",
        "outputId": "82ece129-9a0d-4e32-82ef-7bb8337ecb45"
      },
      "execution_count": 13,
      "outputs": [
        {
          "output_type": "stream",
          "name": "stdout",
          "text": [
            "[{'id': 1, 'name': 'Juicy roasted chicken', 'url': 'https://www.allrecipes.com/recipe/83557/juicy-roasted-chicken/'}, {'id': 2, 'name': 'To die for fettuccine alfredo', 'url': 'https://www.allrecipes.com/recipe/23431/to-die-for-fettuccine-alfredo/'}, {'id': 3, 'name': 'Juicy thanksgiving turkey', 'url': 'https://www.allrecipes.com/recipe/166160/juicy-thanksgiving-turkey/'}, {'id': 4, 'name': 'Empanadas beef turnovers', 'url': 'https://www.allrecipes.com/recipe/215231/empanadas-beef-turnovers/'}, {'id': 5, 'name': 'Cast iron pan seared steak oven finished', 'url': 'https://www.allrecipes.com/recipe/262181/cast-iron-pan-seared-steak-oven-finished/'}]\n"
          ]
        }
      ]
    },
    {
      "cell_type": "code",
      "source": [],
      "metadata": {
        "id": "r6KCx-ZrWJ0-"
      },
      "execution_count": null,
      "outputs": []
    }
  ]
}