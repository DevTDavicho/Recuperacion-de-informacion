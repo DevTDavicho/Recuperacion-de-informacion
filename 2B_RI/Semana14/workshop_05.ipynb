{
 "cells": [
  {
   "cell_type": "markdown",
   "metadata": {},
   "source": [
    "# <center>**Taller 05:** Herramientas para indexación</center>"
   ]
  },
  {
   "cell_type": "markdown",
   "metadata": {},
   "source": [
    "### Integrantes:\n",
    "- Calahorrano David\n",
    "- Córdova Carlos\n",
    "- Zambrano Andrés"
   ]
  },
  {
   "cell_type": "markdown",
   "metadata": {},
   "source": [
    "### "
   ]
  },
  {
   "cell_type": "markdown",
   "metadata": {},
   "source": [
    "### **Objetivo:**\n",
    "Este ejercicio te permitirá recordar los conceptos fundamentales de indexación clásica en sistemas de recuperación de información. Implementarás un índice invertido manualmente y luego explorarás herramientas como Whoosh y Elasticsearch para construir y consultar índices."
   ]
  },
  {
   "cell_type": "markdown",
   "metadata": {},
   "source": [
    "### **Requisitos:**\n",
    "1. Librerías Python necesarias: Whoosh, ElasticSearch.\n",
    "2. Instalar Elasticsearch en un contenedor utilizando Docker.\n",
    "3. Dataset Wikipedia Movie Plots, disponible en Kaggle."
   ]
  },
  {
   "cell_type": "markdown",
   "metadata": {},
   "source": [
    "-----"
   ]
  },
  {
   "cell_type": "markdown",
   "metadata": {},
   "source": [
    "### Conceptos Clave\n",
    "#### Indexación Invertida\n",
    "- **Definición:** Un índice inverso es una estructura de datos que mapea cada palabra a la lista de documentos en los que aparece, junto con sus ubicaciones. Es fundamental en los sistemas de recuperación de información porque permite realizar búsquedas eficientes.\n",
    "- **Ejemplo:** Si la palabra \"cyborg\" aparece en los documentos 1 y 3, el índice se vería así:\n",
    "(\"cyborg\", [1, 3])\n",
    "- **Uso:** Facilita encontrar todos los documentos relevantes para una consulta."
   ]
  },
  {
   "cell_type": "markdown",
   "metadata": {},
   "source": [
    "#### Normalización de Texto\n",
    "- **Definición:** Proceso de transformar texto para hacerlo uniforme, lo que incluye convertirlo a minúsculas, eliminar puntuación y caracteres especiales, entre otros.\n",
    "- **Propósito:** Evitar inconsistencias en el procesamiento del texto (e.g., \"Cyborg\" y \"cyborg\" deben tratarse como iguales).\n",
    "- **Pasos comunes:**\n",
    "1. Convertir a minúsculas.\n",
    "2. Eliminar puntuación.\n",
    "3. Tokenizar en palabras."
   ]
  },
  {
   "cell_type": "markdown",
   "metadata": {},
   "source": [
    "#### Tokenización\n",
    "- **Definición:** Dividir un texto en unidades básicas, generalmente palabras o frases.\n",
    "- **Ejemplo:** El texto \"Jurassic Park es una película.\" se tokeniza como:\n",
    "[\"Jurassic\", \"park\", \"es\", \"una\", \"película\"]\n",
    "- **Herramientas:** En Python, librerías como NLTK o SpaCy pueden facilitar este proceso."
   ]
  },
  {
   "cell_type": "markdown",
   "metadata": {
    "vscode": {
     "languageId": "plaintext"
    }
   },
   "source": [
    "#### Whoosh\n",
    "- **Definición:** Biblioteca de Python para construir motores de búsqueda ligeros, ideal para datasets pequeños.\n",
    "- **Usos:** Indexación y búsqueda local sin necesidad de configurar servidores externos.\n",
    "- **Ventajas:** Rápido y sencillo para proyectos individuales o educativos."
   ]
  },
  {
   "cell_type": "markdown",
   "metadata": {},
   "source": [
    "#### Elasticsearch\n",
    "- **Definición:** Un motor de búsqueda de texto completo basado en Apache Lucene, diseñado para manejar grandes volúmenes de datos.\n",
    "\n",
    "- **Usos:**\n",
    "  - Crear índices distribuidos.\n",
    "  - Realizar consultas complejas con operadores booleanos y puntuación de relevancia.\n",
    "\n",
    "- **Ventajas:** Escalabilidad y velocidad en la recuperación de información en grandes colecciones de datos."
   ]
  },
  {
   "cell_type": "markdown",
   "metadata": {},
   "source": [
    "#### Consultas Básicas\n",
    "- **Definición:** Proceso de buscar información en un índice utilizando palabras clave.\n",
    "- **Ejemplos comunes:**\n",
    "  - Match query: Buscar documentos que contengan una palabra clave.\n",
    "  - Boolean query: Combinar palabras clave con operadores como \"AND\" u \"OR\".\n",
    "- **Ejemplo con Elasticsearch:** Una consulta para buscar \"dinosaurs AND park\":\n",
    "  ```json\n",
    "  {\n",
    "    \"query\": {\n",
    "      \"bool\": {\n",
    "        \"must\": [\n",
    "          { \"match\": { \"content\": \"dinosaurs\" }},\n",
    "          { \"match\": { \"content\": \"park\" }}\n",
    "        ]\n",
    "      }\n",
    "    }\n",
    "  }\n",
    "  ```"
   ]
  },
  {
   "cell_type": "markdown",
   "metadata": {},
   "source": [
    "---"
   ]
  },
  {
   "cell_type": "markdown",
   "metadata": {},
   "source": [
    "### Preparación del Dataset: Wikipedia Movie Plots\n",
    "1. Descarga del dataset:\n",
    "   - Ve a Kaggle y busca el dataset \"Wikipedia Movie Plots\". Descarga el dataset.\n",
    "2. Comprender el dataset:\n",
    "   - El dataset contiene información sobre tramas de más de 34,000 películas. Los campos principales incluyen:\n",
    "     - Release Year: Año de lanzamiento.\n",
    "     - Title: Título de la película.\n",
    "     - Plot: Descripción de la trama de la película.\n",
    "   - Asegúrate de tener un archivo estructurado con las columnas Title y Plot, ya que trabajarás principalmente con estas.\n",
    "   \n",
    "   Ejemplo:\n",
    "\n",
    "   | Title           | Plot                                                                                         |\n",
    "   |------------------|----------------------------------------------------------------------------------------------|\n",
    "   | The Terminator  | A cyborg assassin is sent back in time to kill the mother of a future resistance leader.      |\n",
    "   | Jurassic Park   | Scientists clone dinosaurs to create a theme park, but things go wrong.                      |\n"
   ]
  },
  {
   "cell_type": "code",
   "execution_count": null,
   "metadata": {},
   "outputs": [],
   "source": [
    "import kagglehub\n",
    "\n",
    "# Descargar la última versión del dataset\n",
    "path = kagglehub.dataset_download(\"jrobischon/wikipedia-movie-plots\")\n",
    "\n",
    "# Mostrar la ubicación de los archivos descargados\n",
    "print(\"Path to dataset files:\", path)"
   ]
  },
  {
   "cell_type": "code",
   "execution_count": 1,
   "metadata": {},
   "outputs": [
    {
     "data": {
      "text/markdown": [
       "| Title                            | Plot                                                                                                                                                                                                                                                                                                                                                                                                                                                                                                                                                                                                                                                                                                                                                                                                                                                                                                                                                                                                                                                                                                                                                                                                                                                                                                                                                                                                                                                                                                                                                                                                                                                                                  |\n",
       "|:---------------------------------|:--------------------------------------------------------------------------------------------------------------------------------------------------------------------------------------------------------------------------------------------------------------------------------------------------------------------------------------------------------------------------------------------------------------------------------------------------------------------------------------------------------------------------------------------------------------------------------------------------------------------------------------------------------------------------------------------------------------------------------------------------------------------------------------------------------------------------------------------------------------------------------------------------------------------------------------------------------------------------------------------------------------------------------------------------------------------------------------------------------------------------------------------------------------------------------------------------------------------------------------------------------------------------------------------------------------------------------------------------------------------------------------------------------------------------------------------------------------------------------------------------------------------------------------------------------------------------------------------------------------------------------------------------------------------------------------|\n",
       "| Kansas Saloon Smashers           | A bartender is working at a saloon, serving drinks to customers. After he fills a stereotypically Irish man's bucket with beer, Carrie Nation and her followers burst inside. They assault the Irish man, pulling his hat over his eyes and then dumping the beer over his head. The group then begin wrecking the bar, smashing the fixtures, mirrors, and breaking the cash register. The bartender then sprays seltzer water in Nation's face before a group of policemen appear and order everybody to leave.[1]                                                                                                                                                                                                                                                                                                                                                                                                                                                                                                                                                                                                                                                                                                                                                                                                                                                                                                                                                                                                                                                                                                                                                                  |\n",
       "| Love by the Light of the Moon    | The moon, painted with a smiling face hangs over a park at night. A young couple walking past a fence learn on a railing and look up. The moon smiles. They embrace, and the moon's smile gets bigger. They then sit down on a bench by a tree. The moon's view is blocked, causing him to frown. In the last scene, the man fans the woman with his hat because the moon has left the sky and is perched over her shoulder to see everything better.                                                                                                                                                                                                                                                                                                                                                                                                                                                                                                                                                                                                                                                                                                                                                                                                                                                                                                                                                                                                                                                                                                                                                                                                                                 |\n",
       "| The Martyred Presidents          | The film, just over a minute long, is composed of two shots. In the first, a girl sits at the base of an altar or tomb, her face hidden from the camera. At the center of the altar, a viewing portal displays the portraits of three U.S. Presidents—Abraham Lincoln, James A. Garfield, and William McKinley—each victims of assassination.                                                                                                                                                                                                                                                                                                                                                                                                                                                                                                                                                                                                                                                                                                                                                                                                                                                                                                                                                                                                                                                                                                                                                                                                                                                                                                                                         |\n",
       "|                                  | In the second shot, which runs just over eight seconds long, an assassin kneels feet of Lady Justice.                                                                                                                                                                                                                                                                                                                                                                                                                                                                                                                                                                                                                                                                                                                                                                                                                                                                                                                                                                                                                                                                                                                                                                                                                                                                                                                                                                                                                                                                                                                                                                                 |\n",
       "| Terrible Teddy, the Grizzly King | Lasting just 61 seconds and consisting of two shots, the first shot is set in a wood during winter. The actor representing then vice-president Theodore Roosevelt enthusiastically hurries down a hillside towards a tree in the foreground. He falls once, but rights himself and cocks his rifle. Two other men, bearing signs reading \"His Photographer\" and \"His Press Agent\" respectively, follow him into the shot; the photographer sets up his camera. \"Teddy\" aims his rifle upward at the tree and fells what appears to be a common house cat, which he then proceeds to stab. \"Teddy\" holds his prize aloft, and the press agent takes notes. The second shot is taken in a slightly different part of the wood, on a path. \"Teddy\" rides the path on his horse towards the camera and out to the left of the shot, followed closely by the press agent and photographer, still dutifully holding their signs.                                                                                                                                                                                                                                                                                                                                                                                                                                                                                                                                                                                                                                                                                                                                                            |\n",
       "| Jack and the Beanstalk           | The earliest known adaptation of the classic fairytale, this films shows Jack trading his cow for the beans, his mother forcing him to drop them in the front yard, and beig forced upstairs. As he sleeps, Jack is visited by a fairy who shows him glimpses of what will await him when he ascends the bean stalk. In this version, Jack is the son of a deposed king. When Jack wakes up, he finds the beanstalk has grown and he climbs to the top where he enters the giant's home. The giant finds Jack, who narrowly escapes. The giant chases Jack down the bean stalk, but Jack is able to cut it down before the giant can get to safety. He falls and is killed as Jack celebrates. The fairy then reveals that Jack may return home as a prince.                                                                                                                                                                                                                                                                                                                                                                                                                                                                                                                                                                                                                                                                                                                                                                                                                                                                                                                          |\n",
       "| Alice in Wonderland              | Alice follows a large white rabbit down a \"Rabbit-hole\". She finds a tiny door. When she finds a bottle labeled \"Drink me\", she does, and shrinks, but not enough to pass through the door. She then eats something labeled \"Eat me\" and grows larger. She finds a fan when enables her to shrink enough to get into the \"Garden\" and try to get a \"Dog\" to play with her. She enters the \"White Rabbit's tiny House,\" but suddenly resumes her normal size. In order to get out, she has to use the \"magic fan.\"                                                                                                                                                                                                                                                                                                                                                                                                                                                                                                                                                                                                                                                                                                                                                                                                                                                                                                                                                                                                                                                                                                                                                                     |\n",
       "|                                  | She enters a kitchen, in which there is a cook and a woman holding a baby. She persuades the woman to give her the child and takes the infant outside after the cook starts throwing things around. The baby then turns into a pig and squirms out of her grip. \"The Duchess's Cheshire Cat\" appears and disappears a couple of times to Alice and directs her to the Mad Hatter's \"Mad Tea-Party.\" After a while, she leaves.                                                                                                                                                                                                                                                                                                                                                                                                                                                                                                                                                                                                                                                                                                                                                                                                                                                                                                                                                                                                                                                                                                                                                                                                                                                        |\n",
       "|                                  | The Queen invites Alice to join the \"ROYAL PROCESSION\": a parade of marching playing cards and others headed by the White Rabbit. When Alice \"unintentionally offends the Queen\", the latter summons the \"Executioner\". Alice \"boxes the ears\", then flees when all the playing cards come for her. Then she wakes up and realizes it was all a dream.                                                                                                                                                                                                                                                                                                                                                                                                                                                                                                                                                                                                                                                                                                                                                                                                                                                                                                                                                                                                                                                                                                                                                                                                                                                                                                                                |\n",
       "| The Great Train Robbery          | The film opens with two bandits breaking into a railroad telegraph office, where they force the operator at gunpoint to have a train stopped and to transmit orders for the engineer to fill the locomotive's tender at the station's water tank. They then knock the operator out and tie him up. As the train stops it is boarded by the bandits‍—‌now four. Two bandits enter an express car, kill a messenger and open a box of valuables with dynamite; the others kill the fireman and force the engineer to halt the train and disconnect the locomotive. The bandits then force the passengers off the train and rifle them for their belongings. One passenger tries to escape but is instantly shot down. Carrying their loot, the bandits escape in the locomotive, later stopping in a valley where their horses had been left.                                                                                                                                                                                                                                                                                                                                                                                                                                                                                                                                                                                                                                                                                                                                                                                                                                              |\n",
       "|                                  | Meanwhile, back in the telegraph office, the bound operator awakens, but he collapses again. His daughter arrives bringing him his meal and cuts him free, and restores him to consciousness by dousing him with water.                                                                                                                                                                                                                                                                                                                                                                                                                                                                                                                                                                                                                                                                                                                                                                                                                                                                                                                                                                                                                                                                                                                                                                                                                                                                                                                                                                                                                                                               |\n",
       "|                                  | There is some comic relief at a dance hall, where an Eastern stranger is forced to dance while the locals fire at his feet. The door suddenly opens and the telegraph operator rushes in to tell them of the robbery. The men quickly form a posse, which overtakes the bandits, and in a final shootout kills them all and recovers the stolen mail.                                                                                                                                                                                                                                                                                                                                                                                                                                                                                                                                                                                                                                                                                                                                                                                                                                                                                                                                                                                                                                                                                                                                                                                                                                                                                                                                 |\n",
       "| The Suburbanite                  | The film is about a family who move to the suburbs, hoping for a quiet life. Things start to go wrong, and the wife gets violent and starts throwing crockery, leading to her arrest.                                                                                                                                                                                                                                                                                                                                                                                                                                                                                                                                                                                                                                                                                                                                                                                                                                                                                                                                                                                                                                                                                                                                                                                                                                                                                                                                                                                                                                                                                                 |\n",
       "| The Little Train Robbery         | The opening scene shows the interior of the robbers' den. The walls are decorated with the portraits of notorious criminals and pictures illustrating the exploits of famous bandits. Some of the gang are lounging about, while others are reading novels and illustrated papers. Although of youthful appearance, each is dressed like a typical Western desperado. The \"Bandit Queen,\" leading a blindfolded new recruit, now enters the room. He is led to the center of the room, raises his right hand and is solemnly sworn in. When the bandage is removed from his eyes he finds himself looking into the muzzles of a dozen or more 45's. The gang then congratulates the new member and heartily shake his hand. The \"Bandit Queen\" who is evidently the leader of the gang, now calls for volunteers to hold up a train. All respond, but she picks out seven for the job who immediately leave the cabin.                                                                                                                                                                                                                                                                                                                                                                                                                                                                                                                                                                                                                                                                                                                                                                |\n",
       "|                                  | The next scene shows the gang breaking into a barn. They steal ponies and ride away. Upon reaching the place agreed upon they picket their ponies and leaving them in charge of a trusted member proceed to a wild mountain spot in a bend of the railroad, where the road runs over a steep embankment. The spot is an ideal one for holding up a train. Cross ties are now placed on the railroad track and the gang hide in some bushes close by and wait for the train. The train soon approaches and is brought to a stop. The engineer leaves his engine and proceeds to remove the obstruction on the track. While he is bending over one of the gang sneaks up behind them and hits him on the head with an axe, and knocks him senseless down the embankment, while the gang surround the train and hold up the passengers. After securing all the \"valuables,\" consisting principally of candy and dolls, the robbers uncouple the engine and one car and make their escape just in time to avoid a posse of police who appear on the scene. Further up the road they abandon the engine and car, take to the woods and soon reach their ponies.                                                                                                                                                                                                                                                                                                                                                                                                                                                                                                                            |\n",
       "|                                  | In the meantime the police have learned the particulars of the hold-up from the frightened passengers and have started up the railroad tracks after the fleeing robbers. The robbers are next seen riding up the bed of a shallow stream and finally reach their den, where the remainder of the gang have been waiting for them. Believing they have successfully eluded their pursuers, they proceed to divide the \"plunder.\" The police, however, have struck the right trail and are in close pursuit. While the \"plunder\" is being divided a sentry gives the alarm and the entire gang, abandoning everything, rush from the cabin barely in time to escape capture. The police make a hurried search and again start in pursuit. The robbers are so hard pressed that they are unable to reach their ponies, and are obliged to take chances on foot. The police now get in sight of the fleeing robbers and a lively chase follows through tall weeds, over a bridge and up a steep hill. Reaching a pond the police are close on their heels. The foremost robbers jump in clothes and all and strike out for the opposite bank. Two hesitate and are captured. Boats are secured and after an exciting tussle the entire gang is rounded up. In the mix up one of the police is dragged overboard. The final scene shows the entire gang of bedraggled and crestfallen robbers tied together with a rope and being led away by the police. Two of the police are loaded down with revolvers, knives and cartridge belts, and resemble walking aresenals. As a fitting climax a confederate steals out of the woods, cuts the rope and gallantly rescues the \"Bandit Queen.\" |\n",
       "| The Night Before Christmas       | Scenes are introduced using lines of the poem.[2] Santa Claus, played by Harry Eytinge, is shown feeding real reindeer[4] and finishes his work in the workshop. Meanwhile, the children of a city household hang their stockings and go to bed, but unable to sleep they engage in a pillow fight. Santa Claus leaves his home on a sleigh with his reindeer. He enters the children's house through the chimney, and leaves the presents. The children come down the stairs and enjoy their presents.                                                                                                                                                                                                                                                                                                                                                                                                                                                                                                                                                                                                                                                                                                                                                                                                                                                                                                                                                                                                                                                                                                                                                                               |"
      ],
      "text/plain": [
       "<IPython.core.display.Markdown object>"
      ]
     },
     "metadata": {},
     "output_type": "display_data"
    }
   ],
   "source": [
    "import pandas as pd\n",
    "\n",
    "# Ruta del archivo descargado\n",
    "file_path = r'C:\\Users\\USER\\.cache\\kagglehub\\datasets\\jrobischon\\wikipedia-movie-plots\\versions\\1\\wiki_movie_plots_deduped.csv'\n",
    "\n",
    "# Cargar el archivo CSV\n",
    "df = pd.read_csv(file_path)\n",
    "\n",
    "# Seleccionar las columnas necesarias\n",
    "table = df[['Title', 'Plot']]\n",
    "\n",
    "# Mostrar las primeras 10 filas en formato Markdown\n",
    "from IPython.display import Markdown, display\n",
    "\n",
    "def show_markdown_table(dataframe):\n",
    "    \"\"\"Convierte un DataFrame a formato Markdown.\"\"\"\n",
    "    md_table = dataframe.to_markdown(index=False)\n",
    "    display(Markdown(md_table))\n",
    "\n",
    "# Llamar a la función para mostrar la tabla\n",
    "show_markdown_table(table.head(10))\n"
   ]
  },
  {
   "cell_type": "markdown",
   "metadata": {},
   "source": [
    "### **Instrucción**\n",
    "#### **Parte 1: Construcción Manual de un Índice Invertido**\n",
    "1. Cargar los datos en Python"
   ]
  },
  {
   "cell_type": "code",
   "execution_count": 8,
   "metadata": {},
   "outputs": [],
   "source": [
    "import pandas as pd\n",
    "import re\n",
    "from collections import defaultdict\n",
    "\n",
    "# Cargar el archivo CSV\n",
    "file_path = r'C:\\Users\\USER\\.cache\\kagglehub\\datasets\\jrobischon\\wikipedia-movie-plots\\versions\\1\\wiki_movie_plots_deduped.csv'\n",
    "df = pd.read_csv(file_path)\n",
    "\n",
    "# Seleccionar solo las columnas necesarias\n",
    "data = df[['Title', 'Plot']].head(36000)  # Limitar a 100 filas para pruebas"
   ]
  },
  {
   "cell_type": "markdown",
   "metadata": {},
   "source": [
    "2. Construir un índice invertido manualmente:\n",
    "   - Procesa las tramas de las películas para crear un índice invertido.\n",
    "   - Normaliza el texto de las tramas."
   ]
  },
  {
   "cell_type": "code",
   "execution_count": 9,
   "metadata": {},
   "outputs": [],
   "source": [
    "# # Revisar si hay valores nulos\n",
    "# print(f\"Valores nulos antes de limpiar:\\n{data.isnull().sum()}\")\n",
    "\n",
    "# # Eliminar filas con valores nulos en Title o Plot\n",
    "# data = data.dropna(subset=['Title', 'Plot'])\n",
    "\n",
    "# # Normalizar el texto (minúsculas, eliminar puntuación y caracteres especiales)\n",
    "# def normalize_text(text):\n",
    "#     text = text.lower()  # Convertir a minúsculas\n",
    "#     text = re.sub(r'[^\\w\\s]', '', text)  # Eliminar puntuación\n",
    "#     return text\n",
    "\n",
    "# data['Normalized Plot'] = data['Plot'].apply(normalize_text)\n",
    "\n",
    "# # Mostrar un ejemplo del texto normalizado\n",
    "# data[['Title', 'Normalized Plot']].head()"
   ]
  },
  {
   "cell_type": "code",
   "execution_count": 10,
   "metadata": {},
   "outputs": [],
   "source": [
    "import re\n",
    "\n",
    "def normalize_text(text):\n",
    "    \"\"\"\n",
    "    Normaliza el texto:\n",
    "    - Convierte a minúsculas.\n",
    "    - Elimina signos de puntuación.\n",
    "    - Elimina números.\n",
    "    - Elimina espacios adicionales.\n",
    "    - Elimina palabras repetidas.\n",
    "    \"\"\"\n",
    "    # Convertir a minúsculas\n",
    "    text = text.lower()\n",
    "    \n",
    "    # Eliminar signos de puntuación y números\n",
    "    text = re.sub(r'[^\\w\\s]', '', text)  # Puntuaciones\n",
    "    text = re.sub(r'\\d+', '', text)     # Números\n",
    "    \n",
    "    # Eliminar espacios adicionales\n",
    "    text = re.sub(r'\\s+', ' ', text).strip()\n",
    "    \n",
    "    # Eliminar palabras repetidas manteniendo el orden\n",
    "    palabras = text.split()\n",
    "    palabras_unicas = []\n",
    "    for palabra in palabras:\n",
    "        if palabra not in palabras_unicas:\n",
    "            palabras_unicas.append(palabra)\n",
    "    \n",
    "    # Reconstruir el texto limpio\n",
    "    return ' '.join(palabras_unicas)"
   ]
  },
  {
   "cell_type": "code",
   "execution_count": 13,
   "metadata": {},
   "outputs": [],
   "source": [
    "# def normalize_text(text):\n",
    "#     \"\"\"Normaliza el texto: convierte a minúsculas y elimina caracteres especiales.\"\"\"\n",
    "#     text = text.lower()\n",
    "#     text = re.sub(r'[^\\w\\s]', '', text)  # Elimina puntuaciones\n",
    "#     return text\n",
    "\n",
    "# # Construir el índice invertido\n",
    "# inverted_index = defaultdict(list)\n",
    "\n",
    "# for index, row in data.iterrows():\n",
    "#     title = row['Title']\n",
    "#     plot = normalize_text(row['Plot'])\n",
    "#     words = plot.split()\n",
    "    \n",
    "#     for word in words:\n",
    "#         if title not in inverted_index[word]:  # Evitar duplicados\n",
    "#             inverted_index[word].append(title)"
   ]
  },
  {
   "cell_type": "markdown",
   "metadata": {},
   "source": [
    "3. Realizar consultas en el índice invertido:\n",
    "   - Implementa funciones que permitan buscar palabras clave y devolver los títulos de las películas que contienen dichas palabras."
   ]
  },
  {
   "cell_type": "code",
   "execution_count": 14,
   "metadata": {},
   "outputs": [],
   "source": [
    "# def search_in_index(query, index):\n",
    "#     \"\"\"Busca palabras clave en el índice invertido.\"\"\"\n",
    "#     query = normalize_text(query)\n",
    "#     words = query.split()\n",
    "#     results = set(index[words[0]]) if words[0] in index else set()\n",
    "\n",
    "#     for word in words[1:]:\n",
    "#         if word in index:\n",
    "#             results = results.intersection(index[word])\n",
    "#         else:\n",
    "#             results = set()  # Si una palabra no existe, no hay resultados\n",
    "#             break\n",
    "    \n",
    "#     return results\n",
    "\n",
    "# # Ejemplo de búsqueda\n",
    "# query = \"saloon\"\n",
    "# result = search_in_index(query, inverted_index)\n",
    "\n",
    "# print(\"Películas encontradas:\", result)"
   ]
  },
  {
   "cell_type": "code",
   "execution_count": 15,
   "metadata": {},
   "outputs": [
    {
     "name": "stdout",
     "output_type": "stream",
     "text": [
      "Índice invertido creado y guardado en 'inverted_index.json'\n"
     ]
    }
   ],
   "source": [
    "from collections import defaultdict\n",
    "import re\n",
    "import pandas as pd\n",
    "\n",
    "# Función para normalizar texto\n",
    "def normalize_text(text):\n",
    "    text = text.lower()  # Minúsculas\n",
    "    text = re.sub(r'[^\\w\\s]', '', text)  # Eliminar puntuaciones\n",
    "    text = re.sub(r'\\d+', '', text)     # Eliminar números\n",
    "    text = re.sub(r'\\s+', ' ', text).strip()  # Espacios adicionales\n",
    "    \n",
    "    # Eliminar palabras repetidas\n",
    "    palabras = text.split()\n",
    "    palabras_unicas = []\n",
    "    for palabra in palabras:\n",
    "        if palabra not in palabras_unicas:\n",
    "            palabras_unicas.append(palabra)\n",
    "    return ' '.join(palabras_unicas)\n",
    "\n",
    "# Cargar datos\n",
    "file_path = r'C:\\Users\\USER\\.cache\\kagglehub\\datasets\\jrobischon\\wikipedia-movie-plots\\versions\\1\\wiki_movie_plots_deduped.csv'\n",
    "df = pd.read_csv(file_path)\n",
    "data = df[['Title', 'Plot']].head(36000)  # Seleccionar las columnas necesarias\n",
    "\n",
    "# Normalizar tramas\n",
    "data['Normalized Plot'] = data['Plot'].apply(normalize_text)\n",
    "\n",
    "# Construir índice invertido manualmente\n",
    "def construir_indice_invertido(data):\n",
    "    \"\"\"\n",
    "    Construye un índice invertido a partir del dataframe procesado.\n",
    "    \"\"\"\n",
    "    inverted_index = defaultdict(set)  # Usar set para eficiencia\n",
    "    for _, row in data.iterrows():\n",
    "        title = row['Title']\n",
    "        plot = row['Normalized Plot']\n",
    "        for word in plot.split():\n",
    "            if len(word) >= 3:  # Evitar palabras cortas\n",
    "                inverted_index[word].add(title)  # Añadir título\n",
    "    \n",
    "    # Convertir los conjuntos a listas\n",
    "    return {key: list(value) for key, value in inverted_index.items()}\n",
    "\n",
    "# Crear el índice invertido\n",
    "indice_invertido = construir_indice_invertido(data)\n",
    "\n",
    "# Guardar el índice invertido en un archivo\n",
    "import json\n",
    "with open('inverted_index.json', 'w', encoding='utf-8') as f:\n",
    "    json.dump(indice_invertido, f, ensure_ascii=False, indent=4)\n",
    "\n",
    "print(\"Índice invertido creado y guardado en 'inverted_index.json'\")"
   ]
  },
  {
   "cell_type": "code",
   "execution_count": 16,
   "metadata": {},
   "outputs": [
    {
     "name": "stdout",
     "output_type": "stream",
     "text": [
      "Películas encontradas: {'The Quick and the Dead', 'Born to the Saddle', 'The Mighty McGurk', 'Way Out West', 'The Proud Ones', 'Tom Horn', 'Death on the Nile', 'Ruggles of Red Gap', 'High Plains Drifter', 'Johnny Guitar', 'Melody Ranch', 'The Assassination of Jesse James by the Coward Robert Ford', 'The Ballad of Little Jo', 'Montana Belle', 'The Maverick Queen', 'No Name on the Bullet', 'Boss Engira Bhaskaran', 'Warlock', 'The Roaring Twenties', 'Belle of the Yukon', 'The Younger Brothers', \"It's a Dog's Life\", 'Raw Edge', 'Support Your Local Sheriff', 'Dick Tracy Meets Gruesome', 'Moran of the Lady Letty', 'The Ballad of Cable Hogue', 'The Woman of the Town', 'Frontier Outlaws', 'The Spoilers', 'Pierre of the Plains', 'The Terror of Tiny Town', 'The Life and Times of Judge Roy Bean', 'The Frozen North', 'Posse from Hell', 'The Decks Ran Red', 'The Lawless Breed', 'Shane', 'Quantez', 'A Gunfight', 'Oh! Susanna', 'The Ox-Bow Incident', 'Johnny Reno', 'The Arizona Kid', 'The Carson City Kid', 'Wagons Westward', 'Punchy Cowpunchers', 'The Bronze Buckaroo', 'Shoot-Out at Medicine Bend', \"The Twinkle in God's Eye\", 'Tillie and Gus', 'The Kangaroo Kid', 'Texas Tom', 'The Oklahoma Kid', 'Ninth Street', 'The Bowery', 'The Wistful Widow of Wagon Gap', \"Ridin' for Justice\", 'The Westerner', 'Go West, Young Lady', 'The Yellow Mountain', 'Randy Rides Alone', 'Yellow Dust', 'Overland Telegraph', 'My Darling Clementine', 'Poikkal Kudhirai', 'Bonanza Bunny', 'These Thousand Hills', 'Titanic 3D', \"Nobody's Fool\", 'Lightning Jack', 'Street of Shadows', 'A Day of Fury', 'Appaloosa', 'Ramsbottom Rides Again', 'Broadway Limited', 'The Texan', 'Rainbow Valley', 'Gunpoint', 'Law of the Lawless', 'Monty Walsh', 'Wild Rovers', 'Posse', 'Three Violent People', 'Dawn at Socorro', 'Man with the Gun', 'Little Big Man', 'Great Day in the Morning', 'The Bank Dick', 'The Docks of New York', 'Man with the Steel Whip', 'Mail Order Bride', 'Yes, We Have No Bonanza', 'River of No Return', \"Hell's Hinges\", 'The Great Race', 'Overland Pacific', 'Arizona Bound', 'Silver River', 'Open Range', 'Ride Beyond Vengeance', 'The Nevadan', 'North to Alaska', 'The Shakiest Gun in the West', 'Man of the West', 'Trail of the Vigilantes', 'Rio Bravo', 'Gunslinger', 'Los Amigos', 'The Restless Breed', \"Home in Wyomin'\", 'Malaya', 'In Old Chicago', 'The Black Whip', \"Outlaw's Son\", 'Calamity Jane', 'Kiss Me, Stupid', 'Bring Me the Head of Alfredo Garcia', 'Destry', 'Paint Your Wagon', 'The Arizonian', \"Rustlers' Rhapsody\", 'The Harvey Girls', 'Son of Paleface', 'Unforgiven', 'The Good, the Bad, and Huckleberry Hound', 'The Brass Legend', 'Four Faces West', 'The Gunfighter', 'The Rare Breed', 'Boss Nigger', 'Lonesome Dove', 'The American Astronaut', 'Hare Trigger', 'The Law and Jake Wade', 'Kathanayakudu', 'Heaven Only Knows', 'Texas Lady', 'Alaska', 'The Virginian', 'Hondo', 'Cheyenne', 'Rails Into Laramie', 'Flaming Feather', 'Wharf Angel', 'Station West', 'Joe Kidd', 'Carry On Cowboy', 'Bounty Killer', 'Yellow Sky', 'Denver and Rio Grande', 'Out West', 'Comanche Territory', 'Hidden Guns', 'The Man Who Shot Liberty Valance', 'Gunfight at Comanche Creek', 'Sin City: A Dame to Kill For', 'Grizzly Falls', 'Duel in the Sun', 'Coyote Ugly', 'Phony Express', 'The Big Land', \"Donovan's Reef\", 'Golden Rule Kate', 'Stars In My Crown', 'Road to Utopia', 'The Time of Your Life', 'Trail Street', 'Back to the Future Part III', 'Cannibal! The Musical', 'A Million Ways to Die in the West', 'Destry Rides Again', 'Hawmps!', 'Canadian Pacific', 'My Little Chickadee', 'Desert Fury', 'Two Rode Together', 'Honky Tonk', 'Raiders of Ghost City', 'Montana', 'One Desire', 'An American Tail: Fievel Goes West', 'Never Give a Sucker an Even Break', 'The Way of All Flesh', 'The Strange House', \"Hang 'Em High\", 'The Unpainted Woman', 'She Done Him Wrong', 'Shoot Out', 'Krakatoa, East of Java', 'Tickle Me', 'Billy the Kid', 'Lullaby of Broadway', 'A Killer Walks', 'Rancho Notorious', 'Wanderer of the Wasteland', 'Born Reckless', 'Summer Rental', 'The Fight for Freedom', 'Kansas Saloon Smashers', 'Hannah Lee', 'The Shootist', 'The Quiet Gun', 'Woman Obsessed', 'California', 'Gunfight at the O.K. Corral', 'Brindavanam', 'From Noon till Three', 'The Second Time Around', 'Pat Garrett and Billy the Kid', 'Three Little Pirates', 'The Showdown', 'The Violent Men', 'El Dorado', 'The Far Country', 'The Furies', 'The Comancheros', 'Barbary Coast Gent', \"Devil's Doorway\", 'Woman They Almost Lynched', 'Silverado', 'Bugs Bunny Rides Again', 'Gun Brothers', 'The Apple Dumpling Gang Rides Again', 'Angel and the Badman', \"Winchester '73\", 'The Redhead from Wyoming', 'Come and Get It', 'The Secret of Convict Lake', 'Red Garters', 'They Died with Their Boots On', 'Welcome to Hard Times', 'Frontier Marshal', 'Titanic', 'Storm over Wyoming', 'The Desperadoes', '3:10 to Yuma', 'The Unsinkable Molly Brown', 'Lust in the Dust', 'The Beautiful Blonde from Bashful Bend', 'The Plainsman', 'Birth of the Blues', 'San Antonio', 'The Christmas Kid', 'Support Your Local Gunfighter!', 'A Big Hand for the Little Lady', 'Diamond City', 'Tombstone'}\n"
     ]
    }
   ],
   "source": [
    "def buscar_palabras(indice_invertido, consulta):\n",
    "    \"\"\"\n",
    "    Busca términos en el índice invertido y devuelve resultados relevantes.\n",
    "    \"\"\"\n",
    "    consulta = normalize_text(consulta)\n",
    "    palabras = consulta.split()\n",
    "    resultados = set(indice_invertido.get(palabras[0], []))\n",
    "    \n",
    "    for palabra in palabras[1:]:\n",
    "        resultados.intersection_update(indice_invertido.get(palabra, []))\n",
    "    return resultados\n",
    "\n",
    "# Ejemplo de consulta\n",
    "consulta = \"saloon\"\n",
    "with open('inverted_index.json', 'r', encoding='utf-8') as f:\n",
    "    indice_invertido = json.load(f)\n",
    "\n",
    "resultados = buscar_palabras(indice_invertido, consulta)\n",
    "print(\"Películas encontradas:\", resultados)"
   ]
  },
  {
   "cell_type": "markdown",
   "metadata": {},
   "source": [
    "#### **Parte 2: Usar Whoosh para Indexación y Recuperación**\n",
    "1. Configurar un índice con Whoosh:\n",
    "   - Define un esquema con los campos Title y Plot.\n",
    "   - Crea un índice y agrega las películas seleccionadas.\n",
    "2. Agregar documentos al índice:\n",
    "   - Usa las funciones de escritura de Whoosh para indexar los títulos y tramas.\n",
    "3. Realizar consultas:\n",
    "   - Busca películas relevantes usando palabras clave relacionadas con las tramas (e.g., “dinosaurs”, “cyborg”)."
   ]
  },
  {
   "cell_type": "code",
   "execution_count": null,
   "metadata": {},
   "outputs": [],
   "source": []
  },
  {
   "cell_type": "markdown",
   "metadata": {},
   "source": [
    "#### **Parte 3: Usar Elasticsearch para Indexación y Recuperación**\n",
    "1. Iniciar Elasticsearch con Docker\n",
    "2. Configurar y definir Elasticsearch en Python:\n",
    "   - Conecta Elasticsearch y crea un índice con los campos Title y Plot.\n",
    "3. Indexar documentos:\n",
    "   - Inserta cada película en el índice de Elasticsearch, usando el esquema definido.\n",
    "4. Realizar consultas:\n",
    "   - Realiza búsquedas utilizando tramas relacionadas con palabras clave como “time travel” o “genetic engineering”."
   ]
  },
  {
   "cell_type": "code",
   "execution_count": null,
   "metadata": {},
   "outputs": [],
   "source": []
  }
 ],
 "metadata": {
  "kernelspec": {
   "display_name": "Python 3",
   "language": "python",
   "name": "python3"
  },
  "language_info": {
   "codemirror_mode": {
    "name": "ipython",
    "version": 3
   },
   "file_extension": ".py",
   "mimetype": "text/x-python",
   "name": "python",
   "nbconvert_exporter": "python",
   "pygments_lexer": "ipython3",
   "version": "3.12.3"
  }
 },
 "nbformat": 4,
 "nbformat_minor": 2
}
