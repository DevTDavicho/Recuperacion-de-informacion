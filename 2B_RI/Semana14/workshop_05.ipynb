{
 "cells": [
  {
   "cell_type": "markdown",
   "metadata": {},
   "source": [
    "# <center>**Taller 05:** Herramientas para indexación</center>"
   ]
  },
  {
   "cell_type": "markdown",
   "metadata": {},
   "source": [
    "### Integrantes:\n",
    "- Calahorrano David\n",
    "- Córdova Carlos\n",
    "- Zambrano Andrés"
   ]
  },
  {
   "cell_type": "markdown",
   "metadata": {},
   "source": [
    "### "
   ]
  },
  {
   "cell_type": "markdown",
   "metadata": {},
   "source": [
    "### **Objetivo:**\n",
    "Este ejercicio te permitirá recordar los conceptos fundamentales de indexación clásica en sistemas de recuperación de información. Implementarás un índice invertido manualmente y luego explorarás herramientas como Whoosh y Elasticsearch para construir y consultar índices."
   ]
  },
  {
   "cell_type": "markdown",
   "metadata": {},
   "source": [
    "### **Requisitos:**\n",
    "1. Librerías Python necesarias: Whoosh, ElasticSearch.\n",
    "2. Instalar Elasticsearch en un contenedor utilizando Docker.\n",
    "3. Dataset Wikipedia Movie Plots, disponible en Kaggle."
   ]
  },
  {
   "cell_type": "markdown",
   "metadata": {},
   "source": [
    "-----"
   ]
  },
  {
   "cell_type": "markdown",
   "metadata": {},
   "source": [
    "### Conceptos Clave\n",
    "#### Indexación Invertida\n",
    "- **Definición:** Un índice inverso es una estructura de datos que mapea cada palabra a la lista de documentos en los que aparece, junto con sus ubicaciones. Es fundamental en los sistemas de recuperación de información porque permite realizar búsquedas eficientes.\n",
    "- **Ejemplo:** Si la palabra \"cyborg\" aparece en los documentos 1 y 3, el índice se vería así:\n",
    "(\"cyborg\", [1, 3])\n",
    "- **Uso:** Facilita encontrar todos los documentos relevantes para una consulta."
   ]
  },
  {
   "cell_type": "markdown",
   "metadata": {},
   "source": [
    "#### Normalización de Texto\n",
    "- **Definición:** Proceso de transformar texto para hacerlo uniforme, lo que incluye convertirlo a minúsculas, eliminar puntuación y caracteres especiales, entre otros.\n",
    "- **Propósito:** Evitar inconsistencias en el procesamiento del texto (e.g., \"Cyborg\" y \"cyborg\" deben tratarse como iguales).\n",
    "- **Pasos comunes:**\n",
    "1. Convertir a minúsculas.\n",
    "2. Eliminar puntuación.\n",
    "3. Tokenizar en palabras."
   ]
  },
  {
   "cell_type": "markdown",
   "metadata": {},
   "source": [
    "#### Tokenización\n",
    "- **Definición:** Dividir un texto en unidades básicas, generalmente palabras o frases.\n",
    "- **Ejemplo:** El texto \"Jurassic Park es una película.\" se tokeniza como:\n",
    "[\"Jurassic\", \"park\", \"es\", \"una\", \"película\"]\n",
    "- **Herramientas:** En Python, librerías como NLTK o SpaCy pueden facilitar este proceso."
   ]
  },
  {
   "cell_type": "markdown",
   "metadata": {
    "vscode": {
     "languageId": "plaintext"
    }
   },
   "source": [
    "#### Whoosh\n",
    "- **Definición:** Biblioteca de Python para construir motores de búsqueda ligeros, ideal para datasets pequeños.\n",
    "- **Usos:** Indexación y búsqueda local sin necesidad de configurar servidores externos.\n",
    "- **Ventajas:** Rápido y sencillo para proyectos individuales o educativos."
   ]
  },
  {
   "cell_type": "markdown",
   "metadata": {},
   "source": [
    "#### Elasticsearch\n",
    "- **Definición:** Un motor de búsqueda de texto completo basado en Apache Lucene, diseñado para manejar grandes volúmenes de datos.\n",
    "\n",
    "- **Usos:**\n",
    "  - Crear índices distribuidos.\n",
    "  - Realizar consultas complejas con operadores booleanos y puntuación de relevancia.\n",
    "\n",
    "- **Ventajas:** Escalabilidad y velocidad en la recuperación de información en grandes colecciones de datos."
   ]
  },
  {
   "cell_type": "markdown",
   "metadata": {},
   "source": [
    "#### Consultas Básicas\n",
    "- **Definición:** Proceso de buscar información en un índice utilizando palabras clave.\n",
    "- **Ejemplos comunes:**\n",
    "  - Match query: Buscar documentos que contengan una palabra clave.\n",
    "  - Boolean query: Combinar palabras clave con operadores como \"AND\" u \"OR\".\n",
    "- **Ejemplo con Elasticsearch:** Una consulta para buscar \"dinosaurs AND park\":\n",
    "  ```json\n",
    "  {\n",
    "    \"query\": {\n",
    "      \"bool\": {\n",
    "        \"must\": [\n",
    "          { \"match\": { \"content\": \"dinosaurs\" }},\n",
    "          { \"match\": { \"content\": \"park\" }}\n",
    "        ]\n",
    "      }\n",
    "    }\n",
    "  }\n",
    "  ```"
   ]
  },
  {
   "cell_type": "markdown",
   "metadata": {},
   "source": [
    "---"
   ]
  }
 ],
 "metadata": {
  "language_info": {
   "name": "python"
  }
 },
 "nbformat": 4,
 "nbformat_minor": 2
}
