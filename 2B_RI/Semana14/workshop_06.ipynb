{
 "cells": [
  {
   "cell_type": "markdown",
   "metadata": {},
   "source": [
    "# <center>**Taller 06: Bases de Datos Vectoriales**</center>"
   ]
  },
  {
   "cell_type": "markdown",
   "metadata": {},
   "source": [
    "### **Integrantes:**\n",
    "- Calahorrano David\n",
    "- Códorva Carlos\n",
    "- Zambrano Ándres"
   ]
  },
  {
   "cell_type": "markdown",
   "metadata": {},
   "source": [
    "### **Objetivo:**\n",
    "En este ejercicio implementarás un sistema de recuperación que utilice representaciones vectoriales de texto y compararás este enfoque con los modelos TF-IDF y BM25."
   ]
  },
  {
   "cell_type": "markdown",
   "metadata": {},
   "source": [
    "### **Requisitos:**\n",
    "1. Librerías Python necesarias: sentence-transformers, FAISS, ChromaDB.\n",
    "2. Instalar Elasticsearch en un contenedor utilizando Docker.\n",
    "3. Dataset Wikipedia Movie Plots, disponible en Kaggle, y utilizado en el taller 05."
   ]
  },
  {
   "cell_type": "markdown",
   "metadata": {},
   "source": [
    "---"
   ]
  },
  {
   "cell_type": "markdown",
   "metadata": {},
   "source": [
    "### **Conceptos Clave**\n",
    "#### **TF-IDF**\n",
    "- **Definición:** TF-IDF (Term Frequency - Inverse Document Frequency) es una métrica que mide la relevancia de un término dentro de un documento respecto a un corpus. Combina dos factores:\n",
    "- **Frecuencia del término (TF):** Qué tan frecuente es una palabra en un documento.\n",
    "- **Frecuencia inversa en el corpus (IDF):** Penaliza palabras comunes en el corpus."
   ]
  },
  {
   "cell_type": "markdown",
   "metadata": {},
   "source": [
    "#### **BM25**\n",
    "- **Definición:** Una extensión de TF-IDF que ajusta la relevancia basada en:\n",
    "  - La longitud del documento (normalización).\n",
    "  - La saturación de la frecuencia del término (evita que palabras muy repetidas dominen el puntaje).\n",
    "- **Ventajas:** Proporciona una búsqueda de texto más precisa y es el método predeterminado en Elasticsearch."
   ]
  },
  {
   "cell_type": "markdown",
   "metadata": {},
   "source": [
    "#### **Embeddings**\n",
    "- **Definición:** Representaciones vectoriales de texto que capturan relaciones semánticas entre palabras o frases. Los embeddings transforman palabras o documentos en vectores en un espacio multidimensional donde textos similares están cerca entre sí.\n",
    "- **Herramienta:** Librería sentence-transformers, que ofrece modelos preentrenados como all-MiniLM-L6-v2 para generar embeddings de alta calidad."
   ]
  },
  {
   "cell_type": "markdown",
   "metadata": {},
   "source": [
    "#### **Bases de Datos Vectoriales (FAISS y ChromaDB)**\n",
    "- **FAISS:** Biblioteca especializada en búsquedas rápidas en grandes colecciones de vectores. Diseñada para escalabilidad y velocidad.\n",
    "- **ChromaDB:** Base de datos orientada a embeddings que ofrece funcionalidades avanzadas para almacenar y consultar vectores de manera eficiente."
   ]
  },
  {
   "cell_type": "markdown",
   "metadata": {},
   "source": [
    "#### **Comparación de Estrategias de Recuperación**\n",
    "- **TF-IDF vs. BM25 vs. Embeddings:**\n",
    "  - **TF-IDF:** Mide la relevancia de palabras clave basándose en su frecuencia relativa.\n",
    "  - **BM25:** Mejora TF-IDF ajustando por la longitud del documento y saturación de términos.\n",
    "  - **Embeddings:** Capturan relaciones semánticas, permitiendo recuperar documentos relevantes, aunque las palabras exactas no coincidan."
   ]
  },
  {
   "cell_type": "markdown",
   "metadata": {},
   "source": [
    "#### **Preparación del Dataset: Wikipedia Movie Plots**\n",
    "1. Usa el dataset del Taller 05."
   ]
  },
  {
   "cell_type": "code",
   "execution_count": 11,
   "metadata": {},
   "outputs": [],
   "source": [
    "import pandas as pd\n",
    "# Cargar el dataset utilizado en el taller 05\n",
    "file_path = r'wiki_movie_plots_deduped.csv'\n",
    "df = pd.read_csv(file_path)\n",
    "data = df[['Title', 'Plot']].head(36000)"
   ]
  },
  {
   "cell_type": "code",
   "execution_count": null,
   "metadata": {},
   "outputs": [],
   "source": [
    "data = data.iloc[:1000, :]"
   ]
  },
  {
   "cell_type": "code",
   "execution_count": 12,
   "metadata": {},
   "outputs": [
    {
     "data": {
      "text/html": [
       "<div>\n",
       "<style scoped>\n",
       "    .dataframe tbody tr th:only-of-type {\n",
       "        vertical-align: middle;\n",
       "    }\n",
       "\n",
       "    .dataframe tbody tr th {\n",
       "        vertical-align: top;\n",
       "    }\n",
       "\n",
       "    .dataframe thead th {\n",
       "        text-align: right;\n",
       "    }\n",
       "</style>\n",
       "<table border=\"1\" class=\"dataframe\">\n",
       "  <thead>\n",
       "    <tr style=\"text-align: right;\">\n",
       "      <th></th>\n",
       "      <th>Title</th>\n",
       "      <th>Plot</th>\n",
       "    </tr>\n",
       "  </thead>\n",
       "  <tbody>\n",
       "    <tr>\n",
       "      <th>0</th>\n",
       "      <td>Kansas Saloon Smashers</td>\n",
       "      <td>A bartender is working at a saloon, serving dr...</td>\n",
       "    </tr>\n",
       "    <tr>\n",
       "      <th>1</th>\n",
       "      <td>Love by the Light of the Moon</td>\n",
       "      <td>The moon, painted with a smiling face hangs ov...</td>\n",
       "    </tr>\n",
       "    <tr>\n",
       "      <th>2</th>\n",
       "      <td>The Martyred Presidents</td>\n",
       "      <td>The film, just over a minute long, is composed...</td>\n",
       "    </tr>\n",
       "    <tr>\n",
       "      <th>3</th>\n",
       "      <td>Terrible Teddy, the Grizzly King</td>\n",
       "      <td>Lasting just 61 seconds and consisting of two ...</td>\n",
       "    </tr>\n",
       "    <tr>\n",
       "      <th>4</th>\n",
       "      <td>Jack and the Beanstalk</td>\n",
       "      <td>The earliest known adaptation of the classic f...</td>\n",
       "    </tr>\n",
       "    <tr>\n",
       "      <th>...</th>\n",
       "      <td>...</td>\n",
       "      <td>...</td>\n",
       "    </tr>\n",
       "    <tr>\n",
       "      <th>995</th>\n",
       "      <td>Playing Around</td>\n",
       "      <td>Alice White plays the part of a working class ...</td>\n",
       "    </tr>\n",
       "    <tr>\n",
       "      <th>996</th>\n",
       "      <td>Raffles</td>\n",
       "      <td>Gentleman jewel thief A.J. Raffles (Ronald Col...</td>\n",
       "    </tr>\n",
       "    <tr>\n",
       "      <th>997</th>\n",
       "      <td>Reaching for the Moon</td>\n",
       "      <td>Wall Street wizard, Larry Day, new to the ways...</td>\n",
       "    </tr>\n",
       "    <tr>\n",
       "      <th>998</th>\n",
       "      <td>Recaptured Love</td>\n",
       "      <td>In this drama, a 50-year-old married man (play...</td>\n",
       "    </tr>\n",
       "    <tr>\n",
       "      <th>999</th>\n",
       "      <td>River's End</td>\n",
       "      <td>In remote northern Canada, Sergeant Conniston ...</td>\n",
       "    </tr>\n",
       "  </tbody>\n",
       "</table>\n",
       "<p>1000 rows × 2 columns</p>\n",
       "</div>"
      ],
      "text/plain": [
       "                                Title  \\\n",
       "0              Kansas Saloon Smashers   \n",
       "1       Love by the Light of the Moon   \n",
       "2             The Martyred Presidents   \n",
       "3    Terrible Teddy, the Grizzly King   \n",
       "4              Jack and the Beanstalk   \n",
       "..                                ...   \n",
       "995                    Playing Around   \n",
       "996                           Raffles   \n",
       "997             Reaching for the Moon   \n",
       "998                   Recaptured Love   \n",
       "999                       River's End   \n",
       "\n",
       "                                                  Plot  \n",
       "0    A bartender is working at a saloon, serving dr...  \n",
       "1    The moon, painted with a smiling face hangs ov...  \n",
       "2    The film, just over a minute long, is composed...  \n",
       "3    Lasting just 61 seconds and consisting of two ...  \n",
       "4    The earliest known adaptation of the classic f...  \n",
       "..                                                 ...  \n",
       "995  Alice White plays the part of a working class ...  \n",
       "996  Gentleman jewel thief A.J. Raffles (Ronald Col...  \n",
       "997  Wall Street wizard, Larry Day, new to the ways...  \n",
       "998  In this drama, a 50-year-old married man (play...  \n",
       "999  In remote northern Canada, Sergeant Conniston ...  \n",
       "\n",
       "[1000 rows x 2 columns]"
      ]
     },
     "execution_count": 12,
     "metadata": {},
     "output_type": "execute_result"
    }
   ],
   "source": [
    "data.head(1000)"
   ]
  },
  {
   "cell_type": "code",
   "execution_count": 13,
   "metadata": {},
   "outputs": [],
   "source": [
    "import re\n",
    "\n",
    "def normalize_text(text):\n",
    "    text = text.lower()  # Minúsculas\n",
    "    text = re.sub(r'[^\\w\\s]', '', text)  # Eliminar puntuaciones\n",
    "    text = re.sub(r'\\d+', '', text)     # Eliminar números\n",
    "    text = re.sub(r'\\s+', ' ', text).strip()  # Espacios adicionales\n",
    "    \n",
    "    # Eliminar palabras repetidas\n",
    "    palabras = text.split()\n",
    "    palabras_unicas = []\n",
    "    for palabra in palabras:\n",
    "        if palabra not in palabras_unicas:\n",
    "            palabras_unicas.append(palabra)\n",
    "    return ' '.join(palabras_unicas)\n",
    "\n",
    "# Normalizar tramas\n",
    "data['Normalized Plot'] = data['Plot'].apply(normalize_text)"
   ]
  },
  {
   "cell_type": "markdown",
   "metadata": {},
   "source": [
    "---"
   ]
  },
  {
   "cell_type": "code",
   "execution_count": 15,
   "metadata": {},
   "outputs": [
    {
     "data": {
      "text/html": [
       "<div>\n",
       "<style scoped>\n",
       "    .dataframe tbody tr th:only-of-type {\n",
       "        vertical-align: middle;\n",
       "    }\n",
       "\n",
       "    .dataframe tbody tr th {\n",
       "        vertical-align: top;\n",
       "    }\n",
       "\n",
       "    .dataframe thead th {\n",
       "        text-align: right;\n",
       "    }\n",
       "</style>\n",
       "<table border=\"1\" class=\"dataframe\">\n",
       "  <thead>\n",
       "    <tr style=\"text-align: right;\">\n",
       "      <th></th>\n",
       "      <th>Title</th>\n",
       "      <th>Plot</th>\n",
       "      <th>Normalized Plot</th>\n",
       "    </tr>\n",
       "  </thead>\n",
       "  <tbody>\n",
       "    <tr>\n",
       "      <th>0</th>\n",
       "      <td>Kansas Saloon Smashers</td>\n",
       "      <td>A bartender is working at a saloon, serving dr...</td>\n",
       "      <td>a bartender is working at saloon serving drink...</td>\n",
       "    </tr>\n",
       "    <tr>\n",
       "      <th>1</th>\n",
       "      <td>Love by the Light of the Moon</td>\n",
       "      <td>The moon, painted with a smiling face hangs ov...</td>\n",
       "      <td>the moon painted with a smiling face hangs ove...</td>\n",
       "    </tr>\n",
       "    <tr>\n",
       "      <th>2</th>\n",
       "      <td>The Martyred Presidents</td>\n",
       "      <td>The film, just over a minute long, is composed...</td>\n",
       "      <td>the film just over a minute long is composed o...</td>\n",
       "    </tr>\n",
       "    <tr>\n",
       "      <th>3</th>\n",
       "      <td>Terrible Teddy, the Grizzly King</td>\n",
       "      <td>Lasting just 61 seconds and consisting of two ...</td>\n",
       "      <td>lasting just seconds and consisting of two sho...</td>\n",
       "    </tr>\n",
       "    <tr>\n",
       "      <th>4</th>\n",
       "      <td>Jack and the Beanstalk</td>\n",
       "      <td>The earliest known adaptation of the classic f...</td>\n",
       "      <td>the earliest known adaptation of classic fairy...</td>\n",
       "    </tr>\n",
       "    <tr>\n",
       "      <th>...</th>\n",
       "      <td>...</td>\n",
       "      <td>...</td>\n",
       "      <td>...</td>\n",
       "    </tr>\n",
       "    <tr>\n",
       "      <th>995</th>\n",
       "      <td>Playing Around</td>\n",
       "      <td>Alice White plays the part of a working class ...</td>\n",
       "      <td>alice white plays the part of a working class ...</td>\n",
       "    </tr>\n",
       "    <tr>\n",
       "      <th>996</th>\n",
       "      <td>Raffles</td>\n",
       "      <td>Gentleman jewel thief A.J. Raffles (Ronald Col...</td>\n",
       "      <td>gentleman jewel thief aj raffles ronald colman...</td>\n",
       "    </tr>\n",
       "    <tr>\n",
       "      <th>997</th>\n",
       "      <td>Reaching for the Moon</td>\n",
       "      <td>Wall Street wizard, Larry Day, new to the ways...</td>\n",
       "      <td>wall street wizard larry day new to the ways o...</td>\n",
       "    </tr>\n",
       "    <tr>\n",
       "      <th>998</th>\n",
       "      <td>Recaptured Love</td>\n",
       "      <td>In this drama, a 50-year-old married man (play...</td>\n",
       "      <td>in this drama a yearold married man played by ...</td>\n",
       "    </tr>\n",
       "    <tr>\n",
       "      <th>999</th>\n",
       "      <td>River's End</td>\n",
       "      <td>In remote northern Canada, Sergeant Conniston ...</td>\n",
       "      <td>in remote northern canada sergeant conniston b...</td>\n",
       "    </tr>\n",
       "  </tbody>\n",
       "</table>\n",
       "<p>1000 rows × 3 columns</p>\n",
       "</div>"
      ],
      "text/plain": [
       "                                Title  \\\n",
       "0              Kansas Saloon Smashers   \n",
       "1       Love by the Light of the Moon   \n",
       "2             The Martyred Presidents   \n",
       "3    Terrible Teddy, the Grizzly King   \n",
       "4              Jack and the Beanstalk   \n",
       "..                                ...   \n",
       "995                    Playing Around   \n",
       "996                           Raffles   \n",
       "997             Reaching for the Moon   \n",
       "998                   Recaptured Love   \n",
       "999                       River's End   \n",
       "\n",
       "                                                  Plot  \\\n",
       "0    A bartender is working at a saloon, serving dr...   \n",
       "1    The moon, painted with a smiling face hangs ov...   \n",
       "2    The film, just over a minute long, is composed...   \n",
       "3    Lasting just 61 seconds and consisting of two ...   \n",
       "4    The earliest known adaptation of the classic f...   \n",
       "..                                                 ...   \n",
       "995  Alice White plays the part of a working class ...   \n",
       "996  Gentleman jewel thief A.J. Raffles (Ronald Col...   \n",
       "997  Wall Street wizard, Larry Day, new to the ways...   \n",
       "998  In this drama, a 50-year-old married man (play...   \n",
       "999  In remote northern Canada, Sergeant Conniston ...   \n",
       "\n",
       "                                       Normalized Plot  \n",
       "0    a bartender is working at saloon serving drink...  \n",
       "1    the moon painted with a smiling face hangs ove...  \n",
       "2    the film just over a minute long is composed o...  \n",
       "3    lasting just seconds and consisting of two sho...  \n",
       "4    the earliest known adaptation of classic fairy...  \n",
       "..                                                 ...  \n",
       "995  alice white plays the part of a working class ...  \n",
       "996  gentleman jewel thief aj raffles ronald colman...  \n",
       "997  wall street wizard larry day new to the ways o...  \n",
       "998  in this drama a yearold married man played by ...  \n",
       "999  in remote northern canada sergeant conniston b...  \n",
       "\n",
       "[1000 rows x 3 columns]"
      ]
     },
     "execution_count": 15,
     "metadata": {},
     "output_type": "execute_result"
    }
   ],
   "source": [
    "data"
   ]
  },
  {
   "cell_type": "markdown",
   "metadata": {},
   "source": [
    "### **Instrucciones**\n",
    "#### **Parte 1: Recuperación con TF-IDF**\n",
    "1. Cargar los datos en Python\n",
    "2. Configurar TF-IDF:\n",
    "   - Usa la librería scikit-learn para calcular los puntajes TF-IDF de los plots.\n",
    "3. Realizar consultas:\n",
    "   - Escribe una función que calcule la similitud entre una consulta y los documentos usando la matriz TF-IDF.\n",
    "4. Evaluar los resultados:\n",
    "   - Registra los documentos recuperados y analiza su relevancia."
   ]
  },
  {
   "cell_type": "code",
   "execution_count": 4,
   "metadata": {},
   "outputs": [
    {
     "name": "stdout",
     "output_type": "stream",
     "text": [
      "Resultados con TF-IDF:\n",
      "33572     Yona Yona Penguin\n",
      "7771                Rampage\n",
      "649       The Love of Sunya\n",
      "17507             Crosstalk\n",
      "3799              Girl Rush\n",
      "10773          Mr. Nice Guy\n",
      "18620    The Night Has Eyes\n",
      "29474         Kurathi Magan\n",
      "29310                Bommai\n",
      "22010               XChange\n",
      "Name: Title, dtype: object\n"
     ]
    }
   ],
   "source": [
    "from sklearn.feature_extraction.text import TfidfVectorizer\n",
    "\n",
    "vectorizer = TfidfVectorizer()\n",
    "X_tfidf = vectorizer.fit_transform(data['Normalized Plot'])\n",
    "\n",
    "# Consulta con TF-IDF\n",
    "query = \"time travel future\"\n",
    "query_vec = vectorizer.transform([normalize_text(query)])\n",
    "\n",
    "# Calcular similitud de coseno\n",
    "from sklearn.metrics.pairwise import cosine_similarity\n",
    "cos_sim = cosine_similarity(query_vec, X_tfidf).flatten()\n",
    "\n",
    "# Obtener los resultados más relevantes\n",
    "results_tfidf = data.iloc[cos_sim.argsort()[-10:][::-1]]['Title']\n",
    "print(\"Resultados con TF-IDF:\")\n",
    "print(results_tfidf)"
   ]
  },
  {
   "cell_type": "markdown",
   "metadata": {},
   "source": [
    "#### **Parte 2: Recuperación con BM25**\n",
    "1. Configurar Elasticsearch:\n",
    "   - Reutiliza el índice creado en el Ejercicio 1 para realizar consultas basadas en BM25.\n",
    "2. Realizar consultas:\n",
    "   - Usa palabras clave como \"dinosaurs\" o \"cyborg\" para encontrar documentos relevantes.\n",
    "3. Evaluar los resultados:\n",
    "   - Compara los documentos recuperados con los obtenidos usando TF-IDF."
   ]
  },
  {
   "cell_type": "code",
   "execution_count": 5,
   "metadata": {},
   "outputs": [
    {
     "name": "stdout",
     "output_type": "stream",
     "text": [
      "Conectado a Elasticsearch\n"
     ]
    }
   ],
   "source": [
    "from elasticsearch import Elasticsearch\n",
    "\n",
    "# Crear la conexión\n",
    "es = Elasticsearch(['http://localhost:9200'])  # Se incluye el esquema http\n",
    "index_name = 'movies'\n",
    "\n",
    "# Verificar la conexión\n",
    "if es.ping():\n",
    "    print(\"Conectado a Elasticsearch\")\n",
    "else:\n",
    "    print(\"Error al conectar con Elasticsearch\")"
   ]
  },
  {
   "cell_type": "code",
   "execution_count": 6,
   "metadata": {},
   "outputs": [],
   "source": [
    "# Crear índice\n",
    "def crear_indice_elasticsearch():\n",
    "    if not es.indices.exists(index=index_name):\n",
    "        es.indices.create(index=index_name, body={\n",
    "            \"mappings\": {\n",
    "                \"properties\": {\n",
    "                    \"title\": {\"type\": \"text\"},\n",
    "                    \"plot\": {\"type\": \"text\"}\n",
    "                }\n",
    "            }\n",
    "        })"
   ]
  },
  {
   "cell_type": "code",
   "execution_count": 7,
   "metadata": {},
   "outputs": [],
   "source": [
    "from elasticsearch.helpers import bulk\n",
    "\n",
    "# Indexar documentos\n",
    "def indexar_documentos(data):\n",
    "    actions = []\n",
    "    for _, row in data.iterrows():\n",
    "        actions.append({\n",
    "            \"_index\": index_name,\n",
    "            \"_source\": {\n",
    "                \"title\": row['Title'],\n",
    "                \"plot\": row['Normalized Plot']\n",
    "            }\n",
    "        })\n",
    "    bulk(es, actions)\n",
    "\n",
    "crear_indice_elasticsearch()\n",
    "indexar_documentos(data)"
   ]
  },
  {
   "cell_type": "code",
   "execution_count": 8,
   "metadata": {},
   "outputs": [],
   "source": [
    "def buscar_bm25_elasticsearch(consulta):\n",
    "    query = {\n",
    "        \"query\": {\n",
    "            \"match\": {\n",
    "                \"plot\": consulta\n",
    "            }\n",
    "        }\n",
    "    }\n",
    "    resultados = es.search(index=index_name, body=query, size=10)\n",
    "    for hit in resultados['hits']['hits']:\n",
    "        print(hit['_source']['title'])"
   ]
  },
  {
   "cell_type": "code",
   "execution_count": 9,
   "metadata": {},
   "outputs": [
    {
     "name": "stdout",
     "output_type": "stream",
     "text": [
      "Resultados con BM25 para la consulta 'dinosaurs':\n"
     ]
    },
    {
     "name": "stderr",
     "output_type": "stream",
     "text": [
      "C:\\Users\\USER\\AppData\\Local\\Temp\\ipykernel_20804\\268924553.py:9: DeprecationWarning: The 'body' parameter is deprecated and will be removed in a future version. Instead use individual parameters.\n",
      "  resultados = es.search(index=index_name, body=query, size=10)\n"
     ]
    },
    {
     "name": "stdout",
     "output_type": "stream",
     "text": [
      "Theodore Rex\n",
      "Theodore Rex\n",
      "Theodore Rex\n",
      "Two Lost Worlds\n",
      "Two Lost Worlds\n",
      "Two Lost Worlds\n",
      "The Lost World\n",
      "Magic Tree House\n",
      "The Lost World\n",
      "Magic Tree House\n"
     ]
    }
   ],
   "source": [
    "# Realizar consultas\n",
    "consulta_bm25 = \"dinosaurs\"\n",
    "print(\"Resultados con BM25 para la consulta 'dinosaurs':\")\n",
    "buscar_bm25_elasticsearch(consulta_bm25)"
   ]
  },
  {
   "cell_type": "code",
   "execution_count": 10,
   "metadata": {},
   "outputs": [
    {
     "name": "stdout",
     "output_type": "stream",
     "text": [
      "Resultados con BM25 para la consulta 'cyborg':\n",
      "Cyborg 3: The Recycler\n",
      "Future X-Cops\n",
      "Cyborg 3: The Recycler\n",
      "Future X-Cops\n",
      "Cyborg 3: The Recycler\n",
      "Future X-Cops\n",
      "Sun Vulcan Movie\n",
      "964 Pinocchio\n",
      "Sun Vulcan Movie\n",
      "964 Pinocchio\n"
     ]
    },
    {
     "name": "stderr",
     "output_type": "stream",
     "text": [
      "C:\\Users\\USER\\AppData\\Local\\Temp\\ipykernel_20804\\268924553.py:9: DeprecationWarning: The 'body' parameter is deprecated and will be removed in a future version. Instead use individual parameters.\n",
      "  resultados = es.search(index=index_name, body=query, size=10)\n"
     ]
    }
   ],
   "source": [
    "consulta_bm25_2 = \"cyborg\"\n",
    "print(\"Resultados con BM25 para la consulta 'cyborg':\")\n",
    "buscar_bm25_elasticsearch(consulta_bm25_2)"
   ]
  },
  {
   "cell_type": "markdown",
   "metadata": {},
   "source": [
    "#### **Parte 3: Recuperación con FAISS**\n",
    "1. Configurar FAISS:\n",
    "   - Crea un índice en FAISS y agrega los embeddings generados previamente.\n",
    "2. Realizar consultas:\n",
    "   - Convierte una consulta en texto (e.g., \"A park with cloned dinosaurs\") en un vector usando el mismo modelo de embeddings.\n",
    "   - Busca los vectores más cercanos en FAISS.\n",
    "3. Evaluar los resultados:\n",
    "   - Compara los documentos recuperados por FAISS con los obtenidos usando TF-IDF y BM25."
   ]
  },
  {
   "cell_type": "code",
   "execution_count": 16,
   "metadata": {},
   "outputs": [
    {
     "name": "stdout",
     "output_type": "stream",
     "text": [
      "Generando embeddings\n",
      "Embeddings indexados en FAISS.\n"
     ]
    }
   ],
   "source": [
    "from sentence_transformers import SentenceTransformer\n",
    "import numpy as np\n",
    "import faiss\n",
    "\n",
    "# Configurar el modelo\n",
    "model = SentenceTransformer('all-MiniLM-L6-v2')\n",
    "\n",
    "# Generar embeddings para cada trama normalizada\n",
    "print(\"Generando embeddings\")\n",
    "data['Embeddings'] = data['Normalized Plot'].apply(lambda x: model.encode(x))\n",
    "\n",
    "# Crear un índice en FAISS\n",
    "dimension = len(data['Embeddings'][0])  # Dimensión de los embeddings\n",
    "index = faiss.IndexFlatL2(dimension)   # Índice de FAISS usando L2 (distancia euclidiana)\n",
    "\n",
    "# Convertir los embeddings en una matriz numpy y añadirlos al índice\n",
    "embeddings_matrix = np.array(data['Embeddings'].tolist())\n",
    "index.add(embeddings_matrix)\n",
    "print(\"Embeddings indexados en FAISS.\")"
   ]
  },
  {
   "cell_type": "code",
   "execution_count": 17,
   "metadata": {},
   "outputs": [
    {
     "name": "stdout",
     "output_type": "stream",
     "text": [
      "Modelo cargado correctamente.\n",
      "Primeros 5 valores del embedding: [-0.05258996  0.0373157   0.031874   -0.0104131   0.01665587]\n"
     ]
    }
   ],
   "source": [
    "from sentence_transformers import SentenceTransformer\n",
    "\n",
    "# Cargar modelo de prueba\n",
    "model = SentenceTransformer('all-MiniLM-L6-v2')\n",
    "print(\"Modelo cargado correctamente.\")\n",
    "\n",
    "# Probar generación de embeddings\n",
    "query = \"A park with cloned dinosaurs\"\n",
    "query_embedding = model.encode(query)\n",
    "print(\"Primeros 5 valores del embedding:\", query_embedding[:5])"
   ]
  },
  {
   "cell_type": "code",
   "execution_count": 18,
   "metadata": {},
   "outputs": [],
   "source": [
    "from sentence_transformers import SentenceTransformer\n",
    "import numpy as np\n",
    "\n",
    "# Configurar FAISS y generar embeddings\n",
    "model = SentenceTransformer('all-MiniLM-L6-v2')\n",
    "data['Embeddings'] = data['Normalized Plot'].apply(lambda x: model.encode(x))\n",
    "\n",
    "# Crear el índice de FAISS\n",
    "dimension = len(data['Embeddings'][0])\n",
    "index = faiss.IndexFlatL2(dimension)\n",
    "\n",
    "# Convertir embeddings a formato numpy y añadirlos al índice\n",
    "embeddings_matrix = data['Embeddings'].tolist()\n",
    "index.add(np.array(embeddings_matrix))\n",
    "\n",
    "# Realizar consultas\n",
    "query_text = \"A park with cloned dinosaurs\"\n",
    "query_embedding = model.encode(query_text)\n",
    "\n",
    "# Buscar los vectores más cercanos\n",
    "k = 10  # Número de resultados\n",
    "distances, indices = index.search(np.array([query_embedding]), k)"
   ]
  },
  {
   "cell_type": "code",
   "execution_count": 23,
   "metadata": {},
   "outputs": [
    {
     "name": "stdout",
     "output_type": "stream",
     "text": [
      "[[542 211  35 825 438 109  32  11 191 843]]\n",
      "[[1.2331741 1.3968067 1.4626493 1.482049  1.4880133 1.5142963 1.5240675\n",
      "  1.5463651 1.5484709 1.5495803]]\n"
     ]
    }
   ],
   "source": [
    "print(indices)\n",
    "print(distances)"
   ]
  },
  {
   "cell_type": "markdown",
   "metadata": {},
   "source": [
    "#### **Parte 4: Recuperación con ChromaDB**\n",
    "1. Configurar ChromaDB:\n",
    "   - Inicia una base de datos de ChromaDB y define el esquema con los campos Title, Plot y Embedding.\n",
    "2. Insertar documentos y embeddings:\n",
    "   - Agrega los documentos y sus embeddings generados previamente a ChromaDB, junto con los metadatos correspondientes (e.g., título y trama).\n",
    "3. Realizar consultas:\n",
    "   - Convierte una consulta de texto en un embedding.\n",
    "   - Busca los vectores más cercanos en ChromaDB y recupera los documentos relacionados.\n",
    "4. Evaluar los resultados:\n",
    "   - Compara los documentos recuperados por ChromaDB con los de FAISS, TF-IDF y BM25."
   ]
  },
  {
   "cell_type": "code",
   "execution_count": 26,
   "metadata": {},
   "outputs": [
    {
     "name": "stdout",
     "output_type": "stream",
     "text": [
      "Documentos insertados en ChromaDB.\n"
     ]
    }
   ],
   "source": [
    "import chromadb\n",
    "\n",
    "# Inicializar el cliente de ChromaDB\n",
    "client = chromadb.Client()\n",
    "\n",
    "# Crear o acceder a la colección 'documentos' (se usa un nombre para identificar la colección)\n",
    "collection = client.create_collection(\"documentosss\")\n",
    "\n",
    "# Insertar documentos en ChromaDB\n",
    "for index, row in data.iterrows():\n",
    "    collection.add(\n",
    "        ids=[str(index)],  # Identificador único para cada documento (puedes usar el índice)\n",
    "        documents=[row['Plot']],  # Texto del documento (Plot)\n",
    "        metadatas=[{\"title\": row['Title']}],  # Metadatos (título)\n",
    "        embeddings=[row['Embeddings']]  # Embedding preexistente (si tienes)\n",
    "    )\n",
    "\n",
    "print(\"Documentos insertados en ChromaDB.\")\n"
   ]
  },
  {
   "cell_type": "code",
   "execution_count": null,
   "metadata": {},
   "outputs": [
    {
     "name": "stderr",
     "output_type": "stream",
     "text": [
      "C:\\Users\\andre\\.cache\\chroma\\onnx_models\\all-MiniLM-L6-v2\\onnx.tar.gz: 100%|██████████| 79.3M/79.3M [00:07<00:00, 10.8MiB/s]\n"
     ]
    },
    {
     "name": "stdout",
     "output_type": "stream",
     "text": [
      "Resultados de la búsqueda:\n",
      "['From a lost expedition to a plateau in Venezuela, Paula White brings the journal of her father explorer Maple White to the eccentric Professor Challenger in London. The journal features sketches of dinosaurs which is enough proof for Challenger to publicly announce that dinosaurs still walk the earth. Met with ridicule at an academic meeting at the Zoological Hall, Challenger reluctantly accepts a newspaper\\'s offer to finance a mission to rescue Maple White. Professor Challenger, Paula White, sportsman Sir John Roxton, news reporter Edward Malone (who is a friend of Roxton and wishes to go on the expedition to impress his fiancée), a skeptical professor Summerlee, an Indian servant Zambo, and Challenger\\'s butler Austin leave for the plateau.\\r\\nAt their campsite at the base of the plateau, the explorers are shocked when a large rock falls, sent their way by an Apeman perched on top of an overhead ledge. As the crew look up to see their attacker, Challenger spies overhead a Pteranodon (mistakenly calling it a Pterodactylus) killing and eating a young Toxodon which proves that the statements in Maple White\\'s diary are true. Leaving Zambo and Austin at the camp, they cross a chasm onto the plateau by cutting down a tree and using it as a bridge, but it is knocked over by a Brontosaurus, leaving them trapped.\\r\\nThe explorers witness various life-and-death struggles between the prehistoric beasts of the plateau. An Allosaurus attacks an Edmontosaurus, and knocks it into a bog. The Allosaurus then attacks, and is driven off by a Triceratops. Eventually, the Allosaurus makes its way to the campsite and attacks the exploration party. It is finally driven off by Ed who tosses a torch into its mouth. Convinced that the camp is not safe, Ed climbs a tree to look for a new location, but is attacked by the apeman. Roxton succeeds in shooting the apeman, but the creature is merely wounded and escapes before he can finish him off. Meanwhile, an Agathaumas is attacked by the Allosaurus, and gores it to death. Suddenly, a Tyrannosaurus attacks and kills the Agathaumas, along with an unfortunate Pteranodon.\\r\\nThe explorers then make preparations to live on the plateau potentially indefinitely. A catapult is constructed and during a search for Maple White, Roxton finds his remains, confirming his death. It is at this time that Ed confesses his love for Paula and the two are unofficially wed by Summerlee who used to be a minister.\\r\\nShortly afterwards, as the paleontologists are observing the Brontosaurus, an Allosaurus attacks it and the Brontosaurus falls off the edge of the plateau, becoming trapped in a mud bank at the base of the plateau. Soon afterwards, a volcano erupts causing a mass stampede among the giant creatures of the lost world. The crew is saved when Paula\\'s pet monkey Jocko climbs up the plateau carrying a rope. The crew use the rope to pull up a rope ladder constructed by Zambo and Austin and then climb down.\\r\\nAs Ed makes his descent, he is again attacked by the apeman who pulls the rope ladder. The apeman is again shot and finally killed by Roxton. They discover the Brontosaurus that had been pushed off the plateau had landed softly in the mud of the river, trapped but still alive, and Challenger manages to bring it back to London, as he wants to put it on display as proof of his story.\\r\\nHowever, while being unloaded from the ship it escapes and causes havoc until it reaches Tower Bridge, where its massive weight causes a collapse, and it swims down the River Thames. Challenger is morose as the creature leaves. Ed discovers that the love he left in London has married in his absence, allowing him and Paula to be together. Roxton morosely but gallantly hides his love for Paula as Paula and Ed leave together, while two passersby note: \"That\\'s Sir John Roxton—sportsman.\"', \"Most of the full plot is unknown. In the version available today, Holmes (Dawley) tells his nephews and children about an adventure he had in the woodlands around Slumber Mountain, near the Valley of Dreams. He finds the cabin belonging to the late hermit Mad Dick, who Holmes's friend Joe once saw carrying a strange telescope-like instrument. That night, Holmes searches the cabin and finds the instrument. Upon doing so, the ghost of Mad Dick (O'Brien) instructs him to use it to look at the peak of Slumber Mountain. When he does, he seemingly looks back into the past, seeing a Tyrannosaurus and a Triceratops doing battle. The Tyrannosaurus proves triumphant, and after killing the Triceratops, breaks the time barrier and begins chasing Holmes. It is then revealed that Holmes dreamed everything. The children then tackle him for thinking of a good tall tale.\", \"In Kansas, Dorothy and Imogene the cow are chased by a mule, and the farmhands draw their muskets at the beast. Dorothy runs off to their field and discovers that the family scarecrow is alive. The Scarecrow begins to notice a storm building up and hurries the Mule, the Cow, Toto and Dorothy behind a haystack. A tornado appears overhead and carries the haystack away, thus letting it fall into the Land of Oz.\\r\\nIn Oz, The Wizard in the Emerald City declares that he is retiring from being the ruler and he will be crowning a new leader. The wicked witch Momba appears and attacks the wizard and the paper dissappears. Meanwhile, Dorthy is playing with Toto, while being stalked by the Cowardly Lion. The good witch Glinda decides to turn Toto into a real protector that can fight off large predators. While Toto befriends the lion, the Scarecrow finds the wizard's paper on a tree.\\r\\nThe traveler's continue onward and find the Tin Woodsman. They oil him and find Eureka the cat. When they enter a forest, Momba the Witch flies out the window as her soldiers come out of the cottage, they are all captured and led into the witch's jail-house. Dorthy splashes water on Momba and kills her. After defeating the witch, the travelers arrive at the Emerald City for the retirement party of the Wizard, who names the Scarecrow king and leaves in a balloon.\"]\n"
     ]
    }
   ],
   "source": [
    "# Consulta de ejemplo\n",
    "query = \"A park with cloned dinosaurs\"\n",
    "\n",
    "# Buscar los vectores más cercanos (ChromaDB generará el embedding internamente)\n",
    "results = collection.query(\n",
    "    query_texts=[query],  # Consulta en texto\n",
    "    n_results=3  # Número de resultados más cercanos\n",
    ")\n",
    "\n",
    "# Mostrar resultados\n",
    "print(\"Resultados de la búsqueda:\")\n",
    "for result in results['documents']:\n",
    "    print(result)"
   ]
  },
  {
   "cell_type": "markdown",
   "metadata": {},
   "source": [
    "#### **Parte 5: Comparación de Resultados**\n",
    "1. Relevancia:\n",
    "   - Analiza cuál de las estrategias (TF-IDF, BM25, FAISS o ChromaDB) recupera documentos más relevantes para diferentes consultas.\n",
    "2. Ventajas y limitaciones:\n",
    "   - Reflexiona sobre los puntos fuertes y débiles de cada enfoque."
   ]
  },
  {
   "cell_type": "code",
   "execution_count": null,
   "metadata": {},
   "outputs": [],
   "source": []
  }
 ],
 "metadata": {
  "kernelspec": {
   "display_name": "Python 3",
   "language": "python",
   "name": "python3"
  },
  "language_info": {
   "codemirror_mode": {
    "name": "ipython",
    "version": 3
   },
   "file_extension": ".py",
   "mimetype": "text/x-python",
   "name": "python",
   "nbconvert_exporter": "python",
   "pygments_lexer": "ipython3",
   "version": "3.11.9"
  }
 },
 "nbformat": 4,
 "nbformat_minor": 2
}
