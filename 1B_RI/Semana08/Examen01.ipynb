{
 "cells": [
  {
   "cell_type": "markdown",
   "metadata": {},
   "source": [
    "# Examen Bimestral - Diseño de un Sistema Básico de Recuperación de Información"
   ]
  },
  {
   "cell_type": "code",
   "execution_count": 1,
   "metadata": {},
   "outputs": [],
   "source": [
    "import re\n",
    "import string\n",
    "from nltk.corpus import stopwords\n",
    "from nltk.tokenize import word_tokenize\n",
    "from nltk.stem import WordNetLemmatizer\n",
    "import pandas as pd"
   ]
  },
  {
   "cell_type": "markdown",
   "metadata": {},
   "source": [
    "## Requerimientos\n",
    "### 1. Preprocesamiento de Datos"
   ]
  },
  {
   "cell_type": "code",
   "execution_count": 2,
   "metadata": {},
   "outputs": [
    {
     "name": "stdout",
     "output_type": "stream",
     "text": [
      "                                         movie_title  \\\n",
      "0  Percy Jackson & the Olympians: The Lightning T...   \n",
      "1                                        Please Give   \n",
      "2                                                 10   \n",
      "3                    12 Angry Men (Twelve Angry Men)   \n",
      "4                       20,000 Leagues Under The Sea   \n",
      "\n",
      "                                   critics_consensus  \n",
      "0  Though it may seem like just another Harry Pot...  \n",
      "1  Nicole Holofcener's newest might seem slight i...  \n",
      "2  Blake Edwards' bawdy comedy may not score a pe...  \n",
      "3  Sidney Lumet's feature debut is a superbly wri...  \n",
      "4  One of Disney's finest live-action adventures,...  \n"
     ]
    }
   ],
   "source": [
    "# Cargar el dataset de películas\n",
    "movies = pd.read_csv('dataEx/rotten_tomatoes_movies.csv')\n",
    "critic_review = pd.read_csv('dataEx/rotten_tomatoes_critic_reviews.csv')\n",
    "\n",
    "# Visualizar las primeras filas para confirmar las columnas\n",
    "# print(movies.head())\n",
    "# print(critic_review.head())\n",
    "print(movies[['movie_title', 'critics_consensus']].head())"
   ]
  },
  {
   "cell_type": "code",
   "execution_count": 3,
   "metadata": {},
   "outputs": [
    {
     "name": "stdout",
     "output_type": "stream",
     "text": [
      "<class 'pandas.core.frame.DataFrame'>\n",
      "RangeIndex: 17712 entries, 0 to 17711\n",
      "Data columns (total 22 columns):\n",
      " #   Column                            Non-Null Count  Dtype  \n",
      "---  ------                            --------------  -----  \n",
      " 0   rotten_tomatoes_link              17712 non-null  string \n",
      " 1   movie_title                       17712 non-null  string \n",
      " 2   movie_info                        17391 non-null  object \n",
      " 3   critics_consensus                 9134 non-null   object \n",
      " 4   content_rating                    17712 non-null  object \n",
      " 5   genres                            17693 non-null  object \n",
      " 6   directors                         17518 non-null  object \n",
      " 7   authors                           16170 non-null  object \n",
      " 8   actors                            17360 non-null  object \n",
      " 9   original_release_date             16546 non-null  object \n",
      " 10  streaming_release_date            17328 non-null  object \n",
      " 11  runtime                           17398 non-null  float64\n",
      " 12  production_company                17213 non-null  object \n",
      " 13  tomatometer_status                17668 non-null  object \n",
      " 14  tomatometer_rating                17668 non-null  float64\n",
      " 15  tomatometer_count                 17668 non-null  float64\n",
      " 16  audience_status                   17264 non-null  object \n",
      " 17  audience_rating                   17416 non-null  float64\n",
      " 18  audience_count                    17415 non-null  float64\n",
      " 19  tomatometer_top_critics_count     17712 non-null  int64  \n",
      " 20  tomatometer_fresh_critics_count   17712 non-null  int64  \n",
      " 21  tomatometer_rotten_critics_count  17712 non-null  int64  \n",
      "dtypes: float64(5), int64(3), object(12), string(2)\n",
      "memory usage: 3.0+ MB\n",
      "None\n"
     ]
    }
   ],
   "source": [
    "# Definir rutas de los archivos\n",
    "ruta_criticas = \"dataEx/rotten_tomatoes_critic_reviews.csv\"\n",
    "ruta_peliculas = \"dataEx/rotten_tomatoes_movies.csv\"\n",
    "\n",
    "# Cargar los datos en DataFrames\n",
    "criticas_df = pd.read_csv(ruta_criticas)\n",
    "peliculas_df = pd.read_csv(ruta_peliculas)\n",
    "\n",
    "# Normalizar tipos de datos para columnas clave\n",
    "peliculas_df = peliculas_df.astype({\n",
    "    \"rotten_tomatoes_link\": \"string\",\n",
    "    \"movie_title\": \"string\"\n",
    "})\n",
    "\n",
    "# Mostrar un resumen de las columnas y tipos de datos después de la limpieza\n",
    "print(peliculas_df.info())"
   ]
  },
  {
   "cell_type": "code",
   "execution_count": 4,
   "metadata": {},
   "outputs": [],
   "source": [
    "# Configuración inicial\n",
    "lemmatizer = WordNetLemmatizer()\n",
    "stop_words = set(stopwords.words('english'))\n",
    "puntuacion = set(string.punctuation)"
   ]
  },
  {
   "cell_type": "code",
   "execution_count": 5,
   "metadata": {},
   "outputs": [],
   "source": [
    "# Función de preprocesamiento\n",
    "def procesar_texto(texto):\n",
    "    if not isinstance(texto, str):  # Verificar si el texto es una cadena\n",
    "        return \"\"  # Devuelve un string vacío si no lo es\n",
    "\n",
    "    # Convertir a minúsculas\n",
    "    texto = texto.lower()\n",
    "\n",
    "    # Eliminar números y caracteres especiales\n",
    "    texto = re.sub(r'\\d+', '', texto)  # Eliminar números\n",
    "    texto = re.sub(r'\\s+', ' ', texto.strip())  # Remover espacios adicionales\n",
    "\n",
    "    # Quitar signos de puntuación\n",
    "    texto = ''.join([char for char in texto if char not in puntuacion])\n",
    "\n",
    "    # Tokenización\n",
    "    tokens = word_tokenize(texto)\n",
    "\n",
    "    # Remover stopwords\n",
    "    tokens_filtrados = [palabra for palabra in tokens if palabra not in stop_words]\n",
    "\n",
    "    # Lematización\n",
    "    tokens_lematizados = [lemmatizer.lemmatize(palabra) for palabra in tokens_filtrados]\n",
    "\n",
    "    # Reconstruir texto limpio\n",
    "    texto_procesado = ' '.join(tokens_lematizados)\n",
    "\n",
    "    return texto_procesado"
   ]
  },
  {
   "cell_type": "code",
   "execution_count": 6,
   "metadata": {},
   "outputs": [
    {
     "name": "stdout",
     "output_type": "stream",
     "text": [
      "Iniciando preprocesamiento del corpus...\n",
      "Preprocesamiento completado. Ejemplo de contenido procesado:\n",
      "                                      review_content  \\\n",
      "0  A fantasy adventure that fuses Greek mythology...   \n",
      "1  Uma Thurman as Medusa, the gorgon with a coiff...   \n",
      "2  With a top-notch cast and dazzling special eff...   \n",
      "3  Whether audiences will get behind The Lightnin...   \n",
      "4  What's really lacking in The Lightning Thief i...   \n",
      "\n",
      "                                 contenido_procesado  \n",
      "0  fantasy adventure fuse greek mythology contemp...  \n",
      "1  uma thurman medusa gorgon coiffure writhing sn...  \n",
      "2  topnotch cast dazzling special effect tide tee...  \n",
      "3  whether audience get behind lightning thief ha...  \n",
      "4  whats really lacking lightning thief genuine s...  \n"
     ]
    }
   ],
   "source": [
    "# Cargar el archivo de críticas\n",
    "ruta_criticas = \"dataEx/rotten_tomatoes_critic_reviews.csv\"\n",
    "criticas_df = pd.read_csv(ruta_criticas)\n",
    "\n",
    "# Asegurarse de que 'review_content' tenga valores válidos\n",
    "criticas_df = criticas_df.dropna(subset=['review_content'])\n",
    "criticas_df['review_content'] = criticas_df['review_content'].apply(lambda x: str(x) if not pd.isnull(x) else \"\")\n",
    "\n",
    "# Aplicar el preprocesamiento al corpus\n",
    "print(\"Iniciando preprocesamiento del corpus...\")\n",
    "criticas_df['contenido_procesado'] = criticas_df['review_content'].apply(procesar_texto)\n",
    "\n",
    "# Verificar resultado\n",
    "print(\"Preprocesamiento completado. Ejemplo de contenido procesado:\")\n",
    "print(criticas_df[['review_content', 'contenido_procesado']].head())"
   ]
  },
  {
   "cell_type": "code",
   "execution_count": 7,
   "metadata": {},
   "outputs": [
    {
     "name": "stdout",
     "output_type": "stream",
     "text": [
      "Filas originales: 1064211\n",
      "Filas con contenido preprocesado no vacío: 1064118\n"
     ]
    }
   ],
   "source": [
    "print(f\"Filas originales: {len(criticas_df)}\")\n",
    "print(f\"Filas con contenido preprocesado no vacío: {criticas_df['contenido_procesado'].str.strip().replace('', None).dropna().count()}\")"
   ]
  },
  {
   "cell_type": "code",
   "execution_count": 8,
   "metadata": {},
   "outputs": [
    {
     "name": "stdout",
     "output_type": "stream",
     "text": [
      "                                            review_content  \\\n",
      "0        A fantasy adventure that fuses Greek mythology...   \n",
      "1        Uma Thurman as Medusa, the gorgon with a coiff...   \n",
      "2        With a top-notch cast and dazzling special eff...   \n",
      "3        Whether audiences will get behind The Lightnin...   \n",
      "4        What's really lacking in The Lightning Thief i...   \n",
      "...                                                    ...   \n",
      "1130008  A rousing reconstruction of the 1879 Battle of...   \n",
      "1130013  Seen today, it's not only a startling indictme...   \n",
      "1130014  A rousing visual spectacle that's a prequel of...   \n",
      "1130015  A simple two-act story: Prelude to war, and th...   \n",
      "1130016  Rides the line between being a pure artifact o...   \n",
      "\n",
      "                                       contenido_procesado  \n",
      "0        fantasy adventure fuse greek mythology contemp...  \n",
      "1        uma thurman medusa gorgon coiffure writhing sn...  \n",
      "2        topnotch cast dazzling special effect tide tee...  \n",
      "3        whether audience get behind lightning thief ha...  \n",
      "4        whats really lacking lightning thief genuine s...  \n",
      "...                                                    ...  \n",
      "1130008         rousing reconstruction battle rorkes drift  \n",
      "1130013  seen today startling indictment british imperi...  \n",
      "1130014  rousing visual spectacle thats prequel cy endf...  \n",
      "1130015  simple twoact story prelude war war former con...  \n",
      "1130016  ride line pure artifact bygone eraone depicts ...  \n",
      "\n",
      "[1064211 rows x 2 columns]\n"
     ]
    }
   ],
   "source": [
    "pd.set_option('display.max_rows', 20)  # Cambia 20 por el número que desees\n",
    "print(criticas_df[['review_content', 'contenido_procesado']])"
   ]
  },
  {
   "cell_type": "code",
   "execution_count": 9,
   "metadata": {},
   "outputs": [
    {
     "name": "stdout",
     "output_type": "stream",
     "text": [
      "Filas después de limpiar datos vacíos: 1064118\n"
     ]
    }
   ],
   "source": [
    "criticas_df = criticas_df[criticas_df['contenido_procesado'].str.strip() != '']\n",
    "print(f\"Filas después de limpiar datos vacíos: {len(criticas_df)}\")"
   ]
  },
  {
   "cell_type": "code",
   "execution_count": 10,
   "metadata": {},
   "outputs": [
    {
     "name": "stdout",
     "output_type": "stream",
     "text": [
      "Corpus preprocesado exportado a 'criticas_preprocesadas.csv'\n"
     ]
    }
   ],
   "source": [
    "criticas_df.to_csv(\"dataEx/criticas_preprocesadas.csv\", index=False)\n",
    "print(\"Corpus preprocesado exportado a 'criticas_preprocesadas.csv'\")"
   ]
  },
  {
   "cell_type": "markdown",
   "metadata": {},
   "source": [
    "### 2. Construcción del Sistema"
   ]
  },
  {
   "cell_type": "code",
   "execution_count": 11,
   "metadata": {},
   "outputs": [
    {
     "name": "stdout",
     "output_type": "stream",
     "text": [
      "Defaulting to user installation because normal site-packages is not writeable\n",
      "Note: you may need to restart the kernel to use updated packages.\n"
     ]
    },
    {
     "name": "stderr",
     "output_type": "stream",
     "text": [
      "ERROR: Could not find a version that satisfies the requirement TfidfVectorizer (from versions: none)\n",
      "ERROR: No matching distribution found for TfidfVectorizer\n",
      "\n",
      "[notice] A new release of pip is available: 23.3.1 -> 24.3.1\n",
      "[notice] To update, run: C:\\Users\\USER\\AppData\\Local\\Microsoft\\WindowsApps\\PythonSoftwareFoundation.Python.3.12_qbz5n2kfra8p0\\python.exe -m pip install --upgrade pip\n"
     ]
    }
   ],
   "source": [
    "%pip install TfidfVectorizer"
   ]
  },
  {
   "cell_type": "code",
   "execution_count": 12,
   "metadata": {},
   "outputs": [
    {
     "name": "stdout",
     "output_type": "stream",
     "text": [
      "Defaulting to user installation because normal site-packages is not writeable\n",
      "Requirement already satisfied: scikit-learn in c:\\users\\user\\appdata\\local\\packages\\pythonsoftwarefoundation.python.3.12_qbz5n2kfra8p0\\localcache\\local-packages\\python312\\site-packages (1.5.2)\n",
      "Requirement already satisfied: numpy>=1.19.5 in c:\\users\\user\\appdata\\local\\packages\\pythonsoftwarefoundation.python.3.12_qbz5n2kfra8p0\\localcache\\local-packages\\python312\\site-packages (from scikit-learn) (2.0.2)\n",
      "Requirement already satisfied: scipy>=1.6.0 in c:\\users\\user\\appdata\\local\\packages\\pythonsoftwarefoundation.python.3.12_qbz5n2kfra8p0\\localcache\\local-packages\\python312\\site-packages (from scikit-learn) (1.14.1)\n",
      "Requirement already satisfied: joblib>=1.2.0 in c:\\users\\user\\appdata\\local\\packages\\pythonsoftwarefoundation.python.3.12_qbz5n2kfra8p0\\localcache\\local-packages\\python312\\site-packages (from scikit-learn) (1.4.2)\n",
      "Requirement already satisfied: threadpoolctl>=3.1.0 in c:\\users\\user\\appdata\\local\\packages\\pythonsoftwarefoundation.python.3.12_qbz5n2kfra8p0\\localcache\\local-packages\\python312\\site-packages (from scikit-learn) (3.5.0)\n",
      "Note: you may need to restart the kernel to use updated packages.\n"
     ]
    },
    {
     "name": "stderr",
     "output_type": "stream",
     "text": [
      "\n",
      "[notice] A new release of pip is available: 23.3.1 -> 24.3.1\n",
      "[notice] To update, run: C:\\Users\\USER\\AppData\\Local\\Microsoft\\WindowsApps\\PythonSoftwareFoundation.Python.3.12_qbz5n2kfra8p0\\python.exe -m pip install --upgrade pip\n"
     ]
    }
   ],
   "source": [
    "%pip install scikit-learn"
   ]
  },
  {
   "cell_type": "code",
   "execution_count": 13,
   "metadata": {},
   "outputs": [],
   "source": [
    "from sklearn.feature_extraction.text import TfidfVectorizer\n",
    "from sklearn.metrics.pairwise import cosine_similarity"
   ]
  },
  {
   "cell_type": "code",
   "execution_count": 14,
   "metadata": {},
   "outputs": [
    {
     "name": "stdout",
     "output_type": "stream",
     "text": [
      "Index(['rotten_tomatoes_link', 'critic_name', 'top_critic', 'publisher_name',\n",
      "       'review_type', 'review_score', 'review_date', 'review_content',\n",
      "       'contenido_procesado'],\n",
      "      dtype='object')\n"
     ]
    }
   ],
   "source": [
    "print(criticas_df.columns)"
   ]
  },
  {
   "cell_type": "code",
   "execution_count": 15,
   "metadata": {},
   "outputs": [
    {
     "name": "stdout",
     "output_type": "stream",
     "text": [
      "  rotten_tomatoes_link      critic_name  top_critic           publisher_name  \\\n",
      "0            m/0814255  Andrew L. Urban       False           Urban Cinefile   \n",
      "1            m/0814255    Louise Keller       False           Urban Cinefile   \n",
      "2            m/0814255              NaN       False      FILMINK (Australia)   \n",
      "3            m/0814255     Ben McEachen       False  Sunday Mail (Australia)   \n",
      "4            m/0814255      Ethan Alter        True       Hollywood Reporter   \n",
      "\n",
      "  review_type review_score review_date  \\\n",
      "0       Fresh          NaN  2010-02-06   \n",
      "1       Fresh          NaN  2010-02-06   \n",
      "2       Fresh          NaN  2010-02-09   \n",
      "3       Fresh        3.5/5  2010-02-09   \n",
      "4      Rotten          NaN  2010-02-10   \n",
      "\n",
      "                                      review_content  \\\n",
      "0  A fantasy adventure that fuses Greek mythology...   \n",
      "1  Uma Thurman as Medusa, the gorgon with a coiff...   \n",
      "2  With a top-notch cast and dazzling special eff...   \n",
      "3  Whether audiences will get behind The Lightnin...   \n",
      "4  What's really lacking in The Lightning Thief i...   \n",
      "\n",
      "                                 contenido_procesado  \n",
      "0  fantasy adventure fuse greek mythology contemp...  \n",
      "1  uma thurman medusa gorgon coiffure writhing sn...  \n",
      "2  topnotch cast dazzling special effect tide tee...  \n",
      "3  whether audience get behind lightning thief ha...  \n",
      "4  whats really lacking lightning thief genuine s...  \n"
     ]
    }
   ],
   "source": [
    "ruta = \"dataEx/criticas_preprocesadas.csv\"\n",
    "criticas_df = pd.read_csv(ruta)\n",
    "print(criticas_df.head())"
   ]
  },
  {
   "cell_type": "code",
   "execution_count": 16,
   "metadata": {},
   "outputs": [],
   "source": [
    "# Cargar ambos datasets\n",
    "ruta_criticas = \"dataEx/criticas_preprocesadas.csv\"\n",
    "ruta_peliculas = \"dataEx/rotten_tomatoes_movies.csv\"\n",
    "criticas_df = pd.read_csv(ruta_criticas)\n",
    "peliculas_df = pd.read_csv(ruta_peliculas)\n",
    "\n",
    "# Realizar el merge usando la columna común, por ejemplo, 'rotten_tomatoes_link'\n",
    "criticas_df = pd.merge(criticas_df, peliculas_df[['rotten_tomatoes_link', 'movie_title']], \n",
    "                       on='rotten_tomatoes_link', how='left')"
   ]
  },
  {
   "cell_type": "code",
   "execution_count": 17,
   "metadata": {},
   "outputs": [
    {
     "name": "stdout",
     "output_type": "stream",
     "text": [
      "                                         movie_title  \\\n",
      "0  Percy Jackson & the Olympians: The Lightning T...   \n",
      "1  Percy Jackson & the Olympians: The Lightning T...   \n",
      "2  Percy Jackson & the Olympians: The Lightning T...   \n",
      "3  Percy Jackson & the Olympians: The Lightning T...   \n",
      "4  Percy Jackson & the Olympians: The Lightning T...   \n",
      "\n",
      "                                 contenido_procesado  \n",
      "0  fantasy adventure fuse greek mythology contemp...  \n",
      "1  uma thurman medusa gorgon coiffure writhing sn...  \n",
      "2  topnotch cast dazzling special effect tide tee...  \n",
      "3  whether audience get behind lightning thief ha...  \n",
      "4  whats really lacking lightning thief genuine s...  \n",
      "102\n"
     ]
    }
   ],
   "source": [
    "print(criticas_df[['movie_title', 'contenido_procesado']].head())\n",
    "print(criticas_df['movie_title'].isnull().sum())"
   ]
  },
  {
   "cell_type": "code",
   "execution_count": 18,
   "metadata": {},
   "outputs": [],
   "source": [
    "criticas_df.to_csv(\"dataEx/criticas_actualizadas.csv\", index=False)"
   ]
  },
  {
   "cell_type": "code",
   "execution_count": 19,
   "metadata": {},
   "outputs": [
    {
     "name": "stdout",
     "output_type": "stream",
     "text": [
      "Index(['rotten_tomatoes_link', 'critic_name', 'top_critic', 'publisher_name',\n",
      "       'review_type', 'review_score', 'review_date', 'review_content',\n",
      "       'contenido_procesado', 'movie_title'],\n",
      "      dtype='object')\n"
     ]
    }
   ],
   "source": [
    "print(criticas_df.columns)"
   ]
  },
  {
   "cell_type": "code",
   "execution_count": 21,
   "metadata": {},
   "outputs": [
    {
     "name": "stdout",
     "output_type": "stream",
     "text": [
      "Index(['rotten_tomatoes_link', 'movie_title', 'movie_info',\n",
      "       'critics_consensus', 'content_rating', 'genres', 'directors', 'authors',\n",
      "       'actors', 'original_release_date', 'streaming_release_date', 'runtime',\n",
      "       'production_company', 'tomatometer_status', 'tomatometer_rating',\n",
      "       'tomatometer_count', 'audience_status', 'audience_rating',\n",
      "       'audience_count', 'tomatometer_top_critics_count',\n",
      "       'tomatometer_fresh_critics_count', 'tomatometer_rotten_critics_count'],\n",
      "      dtype='object')\n",
      "  rotten_tomatoes_link                                        movie_title\n",
      "0            m/0814255  Percy Jackson & the Olympians: The Lightning T...\n",
      "1            m/0814255  Percy Jackson & the Olympians: The Lightning T...\n",
      "2            m/0814255  Percy Jackson & the Olympians: The Lightning T...\n",
      "3            m/0814255  Percy Jackson & the Olympians: The Lightning T...\n",
      "4            m/0814255  Percy Jackson & the Olympians: The Lightning T...\n"
     ]
    }
   ],
   "source": [
    "peliculas_df = pd.read_csv(\"dataEx/rotten_tomatoes_movies.csv\")\n",
    "\n",
    "# Asegúrate de que la columna común existe\n",
    "print(peliculas_df.columns)  # Confirmar si 'rotten_tomatoes_link' está presente\n",
    "\n",
    "# Realizar el merge\n",
    "criticas_df = pd.merge(\n",
    "    criticas_df,\n",
    "    peliculas_df[['rotten_tomatoes_link', 'movie_title']],\n",
    "    on='rotten_tomatoes_link',\n",
    "    how='left'\n",
    ")\n",
    "\n",
    "# Verificar si 'movie_title' fue agregada\n",
    "print(criticas_df[['rotten_tomatoes_link', 'movie_title']].head())"
   ]
  },
  {
   "cell_type": "code",
   "execution_count": 22,
   "metadata": {},
   "outputs": [
    {
     "name": "stdout",
     "output_type": "stream",
     "text": [
      "102\n"
     ]
    }
   ],
   "source": [
    "print(criticas_df['movie_title'].isnull().sum())"
   ]
  },
  {
   "cell_type": "code",
   "execution_count": 23,
   "metadata": {},
   "outputs": [
    {
     "name": "stdout",
     "output_type": "stream",
     "text": [
      "Filas después de eliminar valores nulos: 1064016\n"
     ]
    }
   ],
   "source": [
    "criticas_df = criticas_df.dropna(subset=['movie_title'])\n",
    "print(f\"Filas después de eliminar valores nulos: {len(criticas_df)}\")"
   ]
  },
  {
   "cell_type": "code",
   "execution_count": 24,
   "metadata": {},
   "outputs": [
    {
     "name": "stderr",
     "output_type": "stream",
     "text": [
      "C:\\Users\\USER\\AppData\\Local\\Temp\\ipykernel_18728\\3916570288.py:1: FutureWarning: A value is trying to be set on a copy of a DataFrame or Series through chained assignment using an inplace method.\n",
      "The behavior will change in pandas 3.0. This inplace method will never work because the intermediate object on which we are setting values always behaves as a copy.\n",
      "\n",
      "For example, when doing 'df[col].method(value, inplace=True)', try using 'df.method({col: value}, inplace=True)' or df[col] = df[col].method(value) instead, to perform the operation inplace on the original object.\n",
      "\n",
      "\n",
      "  criticas_df['movie_title'].fillna('Título desconocido', inplace=True)\n"
     ]
    }
   ],
   "source": [
    "criticas_df['movie_title'].fillna('Título desconocido', inplace=True)"
   ]
  },
  {
   "cell_type": "code",
   "execution_count": 26,
   "metadata": {},
   "outputs": [],
   "source": [
    "# peliculas_df = pd.read_csv(\"dataEx/rotten_tomatoes_movies.csv\")\n",
    "# criticas_df = pd.merge(\n",
    "#     criticas_df,\n",
    "#     peliculas_df[['rotten_tomatoes_link', 'movie_title']],\n",
    "#     on='rotten_tomatoes_link',\n",
    "#     how='left'\n",
    "# )"
   ]
  },
  {
   "cell_type": "code",
   "execution_count": 27,
   "metadata": {},
   "outputs": [
    {
     "name": "stdout",
     "output_type": "stream",
     "text": [
      "Index(['rotten_tomatoes_link', 'critic_name', 'top_critic', 'publisher_name',\n",
      "       'review_type', 'review_score', 'review_date', 'review_content',\n",
      "       'contenido_procesado', 'movie_title_x', 'movie_title_y', 'movie_title'],\n",
      "      dtype='object')\n"
     ]
    }
   ],
   "source": [
    "print(criticas_df.columns)"
   ]
  },
  {
   "cell_type": "code",
   "execution_count": 29,
   "metadata": {},
   "outputs": [],
   "source": [
    "# peliculas_df = pd.read_csv(\"dataEx/rotten_tomatoes_movies.csv\")\n",
    "\n",
    "# # Asegúrate de que la columna común existe\n",
    "# print(peliculas_df.columns)  # Confirmar si 'rotten_tomatoes_link' está presente\n",
    "\n",
    "# # Realizar el merge\n",
    "# criticas_df = pd.merge(\n",
    "#     criticas_df,\n",
    "#     peliculas_df[['rotten_tomatoes_link', 'movie_title']],\n",
    "#     on='rotten_tomatoes_link',\n",
    "#     how='left'\n",
    "# )\n",
    "\n",
    "# # Verificar si 'movie_title' fue agregada\n",
    "# print(criticas_df[['rotten_tomatoes_link', 'movie_title']].head())"
   ]
  },
  {
   "cell_type": "code",
   "execution_count": 30,
   "metadata": {},
   "outputs": [],
   "source": [
    "criticas_df.to_csv(\"dataEx/criticas_actualizadas.csv\", index=False)"
   ]
  },
  {
   "cell_type": "code",
   "execution_count": 31,
   "metadata": {},
   "outputs": [
    {
     "name": "stdout",
     "output_type": "stream",
     "text": [
      "0\n"
     ]
    }
   ],
   "source": [
    "print(criticas_df['movie_title'].isnull().sum())"
   ]
  },
  {
   "cell_type": "code",
   "execution_count": 33,
   "metadata": {},
   "outputs": [
    {
     "name": "stdout",
     "output_type": "stream",
     "text": [
      "Resultados para consulta 1:\n",
      "                                    movie_title  \\\n",
      "975008                                 Thirteen   \n",
      "515812                   The Man Without a Past   \n",
      "117461                          American Psycho   \n",
      "344768                                 Get Real   \n",
      "338035                             Frozen River   \n",
      "362298  Grave of the Fireflies (Hotaru no haka)   \n",
      "134092                      Assassination Tango   \n",
      "666149                      Remember the Titans   \n",
      "666150                      Remember the Titans   \n",
      "781837                              The Soloist   \n",
      "\n",
      "                                      contenido_procesado  \n",
      "975008  e un claro ejemplo de que e posible hacer pelí...  \n",
      "515812  lo grandioso de el hombre sin pasado e que e u...  \n",
      "117461  una de la más comentadas ingeniosas e intelige...  \n",
      "344768  película inteligente que trata sobre amor sobr...  \n",
      "338035  una muy buena historia sobre la supervivencia ...  \n",
      "362298  um retrato sem concesses horror da guerra e de...  \n",
      "134092  ritmo lento falta foco narrao e ato final conf...  \n",
      "666149  nno pretende ser un anlisis concienzudo ni una...  \n",
      "666150  nno pretende ser un anlisis concienzudo ni una...  \n",
      "781837  una película sobre periodismo marginalidad sob...  \n",
      "\n",
      "Resultados para consulta 2:\n",
      "                               movie_title  \\\n",
      "82977                       50 First Dates   \n",
      "241977                         Coyote Ugly   \n",
      "487436           Life or Something Like It   \n",
      "441861          Jimmy Neutron - Boy Genius   \n",
      "939498                             The Nun   \n",
      "67101           The Twilight Saga: Eclipse   \n",
      "205570  Captain America: The First Avenger   \n",
      "806689                            Spy Kids   \n",
      "806688                            Spy Kids   \n",
      "609190            The Phantom of the Opera   \n",
      "\n",
      "                                      contenido_procesado  \n",
      "82977   proporciona un buen rato de diversión para tod...  \n",
      "241977  solamente e recomendable ver en uno de esos da...  \n",
      "487436             una de esas que ver en video daa nadie  \n",
      "441861  una cinta para los pequeines pero tambin disfr...  \n",
      "939498  en vez de ver la monja sólo vean la do escenas...  \n",
      "67101   la tercera parte en una saga exclusivamente pa...  \n",
      "205570  en una época en que aparecen películas de supe...  \n",
      "806689  rare kind movie doesnt dumb kid wont embarrass...  \n",
      "806688  rare kind movie doesnt dumb kid wont embarrass...  \n",
      "609190  pésele quien le pese e una de la mejores pelíc...  \n"
     ]
    }
   ],
   "source": [
    "# Vectorizar el corpus utilizando TF-IDF\n",
    "vectorizador = TfidfVectorizer()\n",
    "tfidf_matrix = vectorizador.fit_transform(criticas_df['contenido_procesado'])\n",
    "\n",
    "# Función para procesar y responder consultas\n",
    "def responder_consulta(consulta):\n",
    "    consulta_procesada = procesar_texto(consulta)\n",
    "    consulta_vectorizada = vectorizador.transform([consulta_procesada])\n",
    "    similitudes = cosine_similarity(consulta_vectorizada, tfidf_matrix).flatten()\n",
    "    indices_ordenados = similitudes.argsort()[::-1]\n",
    "    resultados = criticas_df.iloc[indices_ordenados][['movie_title', 'contenido_procesado']]\n",
    "    resultados_filtrados = resultados[similitudes[indices_ordenados] > 0.1]\n",
    "    return resultados_filtrados.head(10)\n",
    "\n",
    "# Ejemplo de consultas\n",
    "consulta_1 = \"Películas sobre viajes espaciales.\"\n",
    "consulta_2 = \"Películas para ver en familia.\"\n",
    "\n",
    "print(\"Resultados para consulta 1:\")\n",
    "print(responder_consulta(consulta_1))\n",
    "\n",
    "print(\"\\nResultados para consulta 2:\")\n",
    "print(responder_consulta(consulta_2))"
   ]
  },
  {
   "cell_type": "markdown",
   "metadata": {},
   "source": [
    "### 3. Simulación de Consultas: El sistema debe mostrar un listado de las películas más relevantes para cada consulta, ordenadas según su relevancia."
   ]
  },
  {
   "cell_type": "code",
   "execution_count": 36,
   "metadata": {},
   "outputs": [
    {
     "name": "stdout",
     "output_type": "stream",
     "text": [
      "Index(['rotten_tomatoes_link', 'critic_name', 'top_critic', 'publisher_name',\n",
      "       'review_type', 'review_score', 'review_date', 'review_content',\n",
      "       'contenido_procesado', 'movie_title_x', 'movie_title_y', 'movie_title'],\n",
      "      dtype='object')\n"
     ]
    }
   ],
   "source": [
    "print(criticas_df.columns)"
   ]
  },
  {
   "cell_type": "code",
   "execution_count": 38,
   "metadata": {},
   "outputs": [
    {
     "name": "stdout",
     "output_type": "stream",
     "text": [
      "                                       movie_title_x  \\\n",
      "0  Percy Jackson & the Olympians: The Lightning T...   \n",
      "1  Percy Jackson & the Olympians: The Lightning T...   \n",
      "2  Percy Jackson & the Olympians: The Lightning T...   \n",
      "3  Percy Jackson & the Olympians: The Lightning T...   \n",
      "4  Percy Jackson & the Olympians: The Lightning T...   \n",
      "\n",
      "                                       movie_title_y  \\\n",
      "0  Percy Jackson & the Olympians: The Lightning T...   \n",
      "1  Percy Jackson & the Olympians: The Lightning T...   \n",
      "2  Percy Jackson & the Olympians: The Lightning T...   \n",
      "3  Percy Jackson & the Olympians: The Lightning T...   \n",
      "4  Percy Jackson & the Olympians: The Lightning T...   \n",
      "\n",
      "                                         movie_title  \n",
      "0  Percy Jackson & the Olympians: The Lightning T...  \n",
      "1  Percy Jackson & the Olympians: The Lightning T...  \n",
      "2  Percy Jackson & the Olympians: The Lightning T...  \n",
      "3  Percy Jackson & the Olympians: The Lightning T...  \n",
      "4  Percy Jackson & the Olympians: The Lightning T...  \n"
     ]
    }
   ],
   "source": [
    "print(criticas_df[['movie_title_x', 'movie_title_y', 'movie_title']].head())"
   ]
  },
  {
   "cell_type": "code",
   "execution_count": 39,
   "metadata": {},
   "outputs": [],
   "source": [
    "criticas_df['movie_title'] = criticas_df['movie_title_y']"
   ]
  },
  {
   "cell_type": "code",
   "execution_count": 40,
   "metadata": {},
   "outputs": [],
   "source": [
    "criticas_df = criticas_df.drop(columns=['movie_title_x', 'movie_title_y'])"
   ]
  },
  {
   "cell_type": "code",
   "execution_count": 41,
   "metadata": {},
   "outputs": [
    {
     "name": "stdout",
     "output_type": "stream",
     "text": [
      "Index(['rotten_tomatoes_link', 'critic_name', 'top_critic', 'publisher_name',\n",
      "       'review_type', 'review_score', 'review_date', 'review_content',\n",
      "       'contenido_procesado', 'movie_title'],\n",
      "      dtype='object')\n"
     ]
    }
   ],
   "source": [
    "print(criticas_df.columns)"
   ]
  },
  {
   "cell_type": "code",
   "execution_count": 43,
   "metadata": {},
   "outputs": [],
   "source": [
    "def responder_consulta(consulta):\n",
    "    consulta_procesada = procesar_texto(consulta)\n",
    "    consulta_vectorizada = vectorizador.transform([consulta_procesada])\n",
    "    similitudes = cosine_similarity(consulta_vectorizada, tfidf_matrix).flatten()\n",
    "    indices_ordenados = similitudes.argsort()[::-1]\n",
    "    resultados = criticas_df.iloc[indices_ordenados][['movie_title', 'contenido_procesado']]\n",
    "    resultados_filtrados = resultados[similitudes[indices_ordenados] > 0.1]\n",
    "    resultados_filtrados['relevancia'] = similitudes[indices_ordenados][:len(resultados_filtrados)]\n",
    "    return resultados_filtrados.head(10)"
   ]
  },
  {
   "cell_type": "code",
   "execution_count": 44,
   "metadata": {},
   "outputs": [
    {
     "name": "stdout",
     "output_type": "stream",
     "text": [
      "Resultados para consulta 1:\n"
     ]
    },
    {
     "name": "stderr",
     "output_type": "stream",
     "text": [
      "C:\\Users\\USER\\AppData\\Local\\Temp\\ipykernel_18728\\945678219.py:8: SettingWithCopyWarning: \n",
      "A value is trying to be set on a copy of a slice from a DataFrame.\n",
      "Try using .loc[row_indexer,col_indexer] = value instead\n",
      "\n",
      "See the caveats in the documentation: https://pandas.pydata.org/pandas-docs/stable/user_guide/indexing.html#returning-a-view-versus-a-copy\n",
      "  resultados_filtrados['relevancia'] = similitudes[indices_ordenados][:len(resultados_filtrados)]\n"
     ]
    },
    {
     "name": "stdout",
     "output_type": "stream",
     "text": [
      "                                    movie_title  relevancia\n",
      "975008                                 Thirteen    0.287986\n",
      "515812                   The Man Without a Past    0.273198\n",
      "117461                          American Psycho    0.273189\n",
      "344768                                 Get Real    0.255205\n",
      "338035                             Frozen River    0.244823\n",
      "362298  Grave of the Fireflies (Hotaru no haka)    0.239448\n",
      "134092                      Assassination Tango    0.234337\n",
      "666149                      Remember the Titans    0.230089\n",
      "666150                      Remember the Titans    0.230089\n",
      "781837                              The Soloist    0.223256\n",
      "\n",
      "Resultados para consulta 2:\n",
      "                               movie_title  relevancia\n",
      "82977                       50 First Dates    0.295523\n",
      "241977                         Coyote Ugly    0.288579\n",
      "487436           Life or Something Like It    0.264361\n",
      "441861          Jimmy Neutron - Boy Genius    0.258626\n",
      "939498                             The Nun    0.239834\n",
      "67101           The Twilight Saga: Eclipse    0.238256\n",
      "205570  Captain America: The First Avenger    0.235059\n",
      "806689                            Spy Kids    0.231105\n",
      "806688                            Spy Kids    0.231105\n",
      "609190            The Phantom of the Opera    0.217158\n"
     ]
    },
    {
     "name": "stderr",
     "output_type": "stream",
     "text": [
      "C:\\Users\\USER\\AppData\\Local\\Temp\\ipykernel_18728\\945678219.py:8: SettingWithCopyWarning: \n",
      "A value is trying to be set on a copy of a slice from a DataFrame.\n",
      "Try using .loc[row_indexer,col_indexer] = value instead\n",
      "\n",
      "See the caveats in the documentation: https://pandas.pydata.org/pandas-docs/stable/user_guide/indexing.html#returning-a-view-versus-a-copy\n",
      "  resultados_filtrados['relevancia'] = similitudes[indices_ordenados][:len(resultados_filtrados)]\n"
     ]
    }
   ],
   "source": [
    "consulta_1 = \"Películas sobre viajes espaciales.\"\n",
    "consulta_2 = \"Películas para ver en familia.\"\n",
    "\n",
    "print(\"Resultados para consulta 1:\")\n",
    "resultados_1 = responder_consulta(consulta_1)\n",
    "print(resultados_1[['movie_title', 'relevancia']])\n",
    "\n",
    "print(\"\\nResultados para consulta 2:\")\n",
    "resultados_2 = responder_consulta(consulta_2)\n",
    "print(resultados_2[['movie_title', 'relevancia']])"
   ]
  },
  {
   "cell_type": "markdown",
   "metadata": {},
   "source": [
    "### 4. Análisis de Resultados"
   ]
  },
  {
   "cell_type": "code",
   "execution_count": null,
   "metadata": {},
   "outputs": [],
   "source": []
  }
 ],
 "metadata": {
  "kernelspec": {
   "display_name": "Python 3",
   "language": "python",
   "name": "python3"
  },
  "language_info": {
   "codemirror_mode": {
    "name": "ipython",
    "version": 3
   },
   "file_extension": ".py",
   "mimetype": "text/x-python",
   "name": "python",
   "nbconvert_exporter": "python",
   "pygments_lexer": "ipython3",
   "version": "3.12.7"
  }
 },
 "nbformat": 4,
 "nbformat_minor": 2
}
